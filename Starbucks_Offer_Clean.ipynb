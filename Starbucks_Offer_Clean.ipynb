{
 "cells": [
  {
   "cell_type": "markdown",
   "metadata": {},
   "source": [
    "# Starbucks Capstone Challenge\n",
    "\n",
    "### Introduction\n",
    "\n",
    "This data set contains simulated data that mimics customer behavior on the Starbucks rewards mobile app. Once every few days, Starbucks sends out an offer to users of the mobile app. An offer can be merely an advertisement for a drink or an actual offer such as a discount or BOGO (buy one get one free). Some users might not receive any offer during certain weeks. \n",
    "\n",
    "Not all users receive the same offer, and that is the challenge to solve with this data set.\n",
    "\n",
    "Your task is to combine transaction, demographic and offer data to determine which demographic groups respond best to which offer type. This data set is a simplified version of the real Starbucks app because the underlying simulator only has one product whereas Starbucks actually sells dozens of products.\n",
    "\n",
    "Every offer has a validity period before the offer expires. As an example, a BOGO offer might be valid for only 5 days. You'll see in the data set that informational offers have a validity period even though these ads are merely providing information about a product; for example, if an informational offer has 7 days of validity, you can assume the customer is feeling the influence of the offer for 7 days after receiving the advertisement.\n",
    "\n",
    "You'll be given transactional data showing user purchases made on the app including the timestamp of purchase and the amount of money spent on a purchase. This transactional data also has a record for each offer that a user receives as well as a record for when a user actually views the offer. There are also records for when a user completes an offer. \n",
    "\n",
    "Keep in mind as well that someone using the app might make a purchase through the app without having received an offer or seen an offer.\n",
    "\n",
    "### Example\n",
    "\n",
    "To give an example, a user could receive a discount offer buy 10 dollars get 2 off on Monday. The offer is valid for 10 days from receipt. If the customer accumulates at least 10 dollars in purchases during the validity period, the customer completes the offer.\n",
    "\n",
    "However, there are a few things to watch out for in this data set. Customers do not opt into the offers that they receive; in other words, a user can receive an offer, never actually view the offer, and still complete the offer. For example, a user might receive the \"buy 10 dollars get 2 dollars off offer\", but the user never opens the offer during the 10 day validity period. The customer spends 15 dollars during those ten days. There will be an offer completion record in the data set; however, the customer was not influenced by the offer because the customer never viewed the offer.\n",
    "\n",
    "### Cleaning\n",
    "\n",
    "This makes data cleaning especially important and tricky.\n",
    "\n",
    "You'll also want to take into account that some demographic groups will make purchases even if they don't receive an offer. From a business perspective, if a customer is going to make a 10 dollar purchase without an offer anyway, you wouldn't want to send a buy 10 dollars get 2 dollars off offer. You'll want to try to assess what a certain demographic group will buy when not receiving any offers.\n",
    "\n",
    "### Final Advice\n",
    "\n",
    "Because this is a capstone project, you are free to analyze the data any way you see fit. For example, you could build a machine learning model that predicts how much someone will spend based on demographics and offer type. Or you could build a model that predicts whether or not someone will respond to an offer. Or, you don't need to build a machine learning model at all. You could develop a set of heuristics that determine what offer you should send to each customer (i.e., 75 percent of women customers who were 35 years old responded to offer A vs 40 percent from the same demographic to offer B, so send offer A)."
   ]
  },
  {
   "cell_type": "markdown",
   "metadata": {},
   "source": [
    "# Data Sets\n",
    "\n",
    "The data is contained in three files:\n",
    "\n",
    "* portfolio.json - containing offer ids and meta data about each offer (duration, type, etc.)\n",
    "* profile.json - demographic data for each customer\n",
    "* transcript.json - records for transactions, offers received, offers viewed, and offers completed\n",
    "\n",
    "Here is the schema and explanation of each variable in the files:\n",
    "\n",
    "**portfolio.json**\n",
    "* id (string) - offer id\n",
    "* offer_type (string) - type of offer ie BOGO, discount, informational\n",
    "* difficulty (int) - minimum required spend to complete an offer\n",
    "* reward (int) - reward given for completing an offer\n",
    "* duration (int) - time for offer to be open, in days\n",
    "* channels (list of strings)\n",
    "\n",
    "**profile.json**\n",
    "* age (int) - age of the customer \n",
    "* became_member_on (int) - date when customer created an app account\n",
    "* gender (str) - gender of the customer (note some entries contain 'O' for other rather than M or F)\n",
    "* id (str) - customer id\n",
    "* income (float) - customer's income\n",
    "\n",
    "**transcript.json**\n",
    "* event (str) - record description (ie transaction, offer received, offer viewed, etc.)\n",
    "* person (str) - customer id\n",
    "* time (int) - time in hours since start of test. The data begins at time t=0\n",
    "* value - (dict of strings) - either an offer id or transaction amount depending on the record\n"
   ]
  },
  {
   "cell_type": "markdown",
   "metadata": {},
   "source": [
    "# Main blocks of code:\n",
    "* Dataset import\n",
    "* Data Exploration & Cleaning\n",
    "* Merging datasets\n",
    "* Saving cleaned and merged dataset\n",
    "\n",
    "#### Questions to be answered:\n",
    "* Which age groups complete the offer?\n",
    "* How well can we predict the success of offers?"
   ]
  },
  {
   "cell_type": "markdown",
   "metadata": {},
   "source": [
    "### Importing libraries and datasets"
   ]
  },
  {
   "cell_type": "code",
   "execution_count": 1,
   "metadata": {},
   "outputs": [],
   "source": [
    "import pandas as pd\n",
    "import numpy as np\n",
    "import math\n",
    "import json\n",
    "import matplotlib.pyplot as plt\n",
    "import seaborn as sns\n",
    "from sklearn.preprocessing import MultiLabelBinarizer\n",
    "import datetime\n",
    "from time import time\n",
    "\n",
    "# read in the json files\n",
    "portfolio = pd.read_json(r'C:\\Users\\BernadettKepenyes\\Documents\\GitHub\\starbucks-offer-success\\portfolio.json', orient='records', lines=True)\n",
    "profile = pd.read_json(r'C:\\Users\\BernadettKepenyes\\Documents\\GitHub\\starbucks-offer-success\\profile.json', orient='records', lines=True)\n",
    "transcript = pd.read_json(r'C:\\Users\\BernadettKepenyes\\Documents\\GitHub\\starbucks-offer-success\\transcript.json', orient='records', lines=True)"
   ]
  },
  {
   "cell_type": "markdown",
   "metadata": {},
   "source": [
    "### Data Exploration & Cleaning"
   ]
  },
  {
   "cell_type": "markdown",
   "metadata": {},
   "source": [
    "#### Portfolio dataset"
   ]
  },
  {
   "cell_type": "code",
   "execution_count": 2,
   "metadata": {},
   "outputs": [
    {
     "output_type": "execute_result",
     "data": {
      "text/plain": [
       "   reward                      channels  difficulty  duration     offer_type  \\\n",
       "0      10       [email, mobile, social]          10         7           bogo   \n",
       "1      10  [web, email, mobile, social]          10         5           bogo   \n",
       "2       0          [web, email, mobile]           0         4  informational   \n",
       "3       5          [web, email, mobile]           5         7           bogo   \n",
       "4       5                  [web, email]          20        10       discount   \n",
       "\n",
       "                                 id  \n",
       "0  ae264e3637204a6fb9bb56bc8210ddfd  \n",
       "1  4d5c57ea9a6940dd891ad53e9dbe8da0  \n",
       "2  3f207df678b143eea3cee63160fa8bed  \n",
       "3  9b98b8c7a33c4b65b9aebfe6a799e6d9  \n",
       "4  0b1e1539f2cc45b7b9fa7c272da2e1d7  "
      ],
      "text/html": "<div>\n<style scoped>\n    .dataframe tbody tr th:only-of-type {\n        vertical-align: middle;\n    }\n\n    .dataframe tbody tr th {\n        vertical-align: top;\n    }\n\n    .dataframe thead th {\n        text-align: right;\n    }\n</style>\n<table border=\"1\" class=\"dataframe\">\n  <thead>\n    <tr style=\"text-align: right;\">\n      <th></th>\n      <th>reward</th>\n      <th>channels</th>\n      <th>difficulty</th>\n      <th>duration</th>\n      <th>offer_type</th>\n      <th>id</th>\n    </tr>\n  </thead>\n  <tbody>\n    <tr>\n      <th>0</th>\n      <td>10</td>\n      <td>[email, mobile, social]</td>\n      <td>10</td>\n      <td>7</td>\n      <td>bogo</td>\n      <td>ae264e3637204a6fb9bb56bc8210ddfd</td>\n    </tr>\n    <tr>\n      <th>1</th>\n      <td>10</td>\n      <td>[web, email, mobile, social]</td>\n      <td>10</td>\n      <td>5</td>\n      <td>bogo</td>\n      <td>4d5c57ea9a6940dd891ad53e9dbe8da0</td>\n    </tr>\n    <tr>\n      <th>2</th>\n      <td>0</td>\n      <td>[web, email, mobile]</td>\n      <td>0</td>\n      <td>4</td>\n      <td>informational</td>\n      <td>3f207df678b143eea3cee63160fa8bed</td>\n    </tr>\n    <tr>\n      <th>3</th>\n      <td>5</td>\n      <td>[web, email, mobile]</td>\n      <td>5</td>\n      <td>7</td>\n      <td>bogo</td>\n      <td>9b98b8c7a33c4b65b9aebfe6a799e6d9</td>\n    </tr>\n    <tr>\n      <th>4</th>\n      <td>5</td>\n      <td>[web, email]</td>\n      <td>20</td>\n      <td>10</td>\n      <td>discount</td>\n      <td>0b1e1539f2cc45b7b9fa7c272da2e1d7</td>\n    </tr>\n  </tbody>\n</table>\n</div>"
     },
     "metadata": {},
     "execution_count": 2
    }
   ],
   "source": [
    "portfolio.head()"
   ]
  },
  {
   "cell_type": "code",
   "execution_count": 3,
   "metadata": {},
   "outputs": [
    {
     "output_type": "execute_result",
     "data": {
      "text/plain": [
       "(10, 6)"
      ]
     },
     "metadata": {},
     "execution_count": 3
    }
   ],
   "source": [
    "portfolio.shape"
   ]
  },
  {
   "cell_type": "code",
   "execution_count": 4,
   "metadata": {},
   "outputs": [
    {
     "output_type": "execute_result",
     "data": {
      "text/plain": [
       "   reward                      channels  difficulty  duration     offer_type  \\\n",
       "0      10       [email, mobile, social]          10         7           bogo   \n",
       "1      10  [web, email, mobile, social]          10         5           bogo   \n",
       "2       0          [web, email, mobile]           0         4  informational   \n",
       "3       5          [web, email, mobile]           5         7           bogo   \n",
       "4       5                  [web, email]          20        10       discount   \n",
       "5       3  [web, email, mobile, social]           7         7       discount   \n",
       "6       2  [web, email, mobile, social]          10        10       discount   \n",
       "7       0       [email, mobile, social]           0         3  informational   \n",
       "8       5  [web, email, mobile, social]           5         5           bogo   \n",
       "9       2          [web, email, mobile]          10         7       discount   \n",
       "\n",
       "                                 id  \n",
       "0  ae264e3637204a6fb9bb56bc8210ddfd  \n",
       "1  4d5c57ea9a6940dd891ad53e9dbe8da0  \n",
       "2  3f207df678b143eea3cee63160fa8bed  \n",
       "3  9b98b8c7a33c4b65b9aebfe6a799e6d9  \n",
       "4  0b1e1539f2cc45b7b9fa7c272da2e1d7  \n",
       "5  2298d6c36e964ae4a3e7e9706d1fb8c2  \n",
       "6  fafdcd668e3743c1bb461111dcafc2a4  \n",
       "7  5a8bc65990b245e5a138643cd4eb9837  \n",
       "8  f19421c1d4aa40978ebb69ca19b0e20d  \n",
       "9  2906b810c7d4411798c6938adc9daaa5  "
      ],
      "text/html": "<div>\n<style scoped>\n    .dataframe tbody tr th:only-of-type {\n        vertical-align: middle;\n    }\n\n    .dataframe tbody tr th {\n        vertical-align: top;\n    }\n\n    .dataframe thead th {\n        text-align: right;\n    }\n</style>\n<table border=\"1\" class=\"dataframe\">\n  <thead>\n    <tr style=\"text-align: right;\">\n      <th></th>\n      <th>reward</th>\n      <th>channels</th>\n      <th>difficulty</th>\n      <th>duration</th>\n      <th>offer_type</th>\n      <th>id</th>\n    </tr>\n  </thead>\n  <tbody>\n    <tr>\n      <th>0</th>\n      <td>10</td>\n      <td>[email, mobile, social]</td>\n      <td>10</td>\n      <td>7</td>\n      <td>bogo</td>\n      <td>ae264e3637204a6fb9bb56bc8210ddfd</td>\n    </tr>\n    <tr>\n      <th>1</th>\n      <td>10</td>\n      <td>[web, email, mobile, social]</td>\n      <td>10</td>\n      <td>5</td>\n      <td>bogo</td>\n      <td>4d5c57ea9a6940dd891ad53e9dbe8da0</td>\n    </tr>\n    <tr>\n      <th>2</th>\n      <td>0</td>\n      <td>[web, email, mobile]</td>\n      <td>0</td>\n      <td>4</td>\n      <td>informational</td>\n      <td>3f207df678b143eea3cee63160fa8bed</td>\n    </tr>\n    <tr>\n      <th>3</th>\n      <td>5</td>\n      <td>[web, email, mobile]</td>\n      <td>5</td>\n      <td>7</td>\n      <td>bogo</td>\n      <td>9b98b8c7a33c4b65b9aebfe6a799e6d9</td>\n    </tr>\n    <tr>\n      <th>4</th>\n      <td>5</td>\n      <td>[web, email]</td>\n      <td>20</td>\n      <td>10</td>\n      <td>discount</td>\n      <td>0b1e1539f2cc45b7b9fa7c272da2e1d7</td>\n    </tr>\n    <tr>\n      <th>5</th>\n      <td>3</td>\n      <td>[web, email, mobile, social]</td>\n      <td>7</td>\n      <td>7</td>\n      <td>discount</td>\n      <td>2298d6c36e964ae4a3e7e9706d1fb8c2</td>\n    </tr>\n    <tr>\n      <th>6</th>\n      <td>2</td>\n      <td>[web, email, mobile, social]</td>\n      <td>10</td>\n      <td>10</td>\n      <td>discount</td>\n      <td>fafdcd668e3743c1bb461111dcafc2a4</td>\n    </tr>\n    <tr>\n      <th>7</th>\n      <td>0</td>\n      <td>[email, mobile, social]</td>\n      <td>0</td>\n      <td>3</td>\n      <td>informational</td>\n      <td>5a8bc65990b245e5a138643cd4eb9837</td>\n    </tr>\n    <tr>\n      <th>8</th>\n      <td>5</td>\n      <td>[web, email, mobile, social]</td>\n      <td>5</td>\n      <td>5</td>\n      <td>bogo</td>\n      <td>f19421c1d4aa40978ebb69ca19b0e20d</td>\n    </tr>\n    <tr>\n      <th>9</th>\n      <td>2</td>\n      <td>[web, email, mobile]</td>\n      <td>10</td>\n      <td>7</td>\n      <td>discount</td>\n      <td>2906b810c7d4411798c6938adc9daaa5</td>\n    </tr>\n  </tbody>\n</table>\n</div>"
     },
     "metadata": {},
     "execution_count": 4
    }
   ],
   "source": [
    "portfolio"
   ]
  },
  {
   "cell_type": "code",
   "execution_count": 5,
   "metadata": {},
   "outputs": [
    {
     "output_type": "execute_result",
     "data": {
      "text/plain": [
       "10"
      ]
     },
     "metadata": {},
     "execution_count": 5
    }
   ],
   "source": [
    "portfolio['id'].nunique()"
   ]
  },
  {
   "cell_type": "code",
   "execution_count": 6,
   "metadata": {},
   "outputs": [
    {
     "output_type": "execute_result",
     "data": {
      "text/plain": [
       "   reward  difficulty  duration     offer_type  \\\n",
       "0      10          10         7           bogo   \n",
       "1      10          10         5           bogo   \n",
       "2       0           0         4  informational   \n",
       "3       5           5         7           bogo   \n",
       "4       5          20        10       discount   \n",
       "5       3           7         7       discount   \n",
       "6       2          10        10       discount   \n",
       "7       0           0         3  informational   \n",
       "8       5           5         5           bogo   \n",
       "9       2          10         7       discount   \n",
       "\n",
       "                                 id  email  mobile  social  web  \n",
       "0  ae264e3637204a6fb9bb56bc8210ddfd      1       1       1    0  \n",
       "1  4d5c57ea9a6940dd891ad53e9dbe8da0      1       1       1    1  \n",
       "2  3f207df678b143eea3cee63160fa8bed      1       1       0    1  \n",
       "3  9b98b8c7a33c4b65b9aebfe6a799e6d9      1       1       0    1  \n",
       "4  0b1e1539f2cc45b7b9fa7c272da2e1d7      1       0       0    1  \n",
       "5  2298d6c36e964ae4a3e7e9706d1fb8c2      1       1       1    1  \n",
       "6  fafdcd668e3743c1bb461111dcafc2a4      1       1       1    1  \n",
       "7  5a8bc65990b245e5a138643cd4eb9837      1       1       1    0  \n",
       "8  f19421c1d4aa40978ebb69ca19b0e20d      1       1       1    1  \n",
       "9  2906b810c7d4411798c6938adc9daaa5      1       1       0    1  "
      ],
      "text/html": "<div>\n<style scoped>\n    .dataframe tbody tr th:only-of-type {\n        vertical-align: middle;\n    }\n\n    .dataframe tbody tr th {\n        vertical-align: top;\n    }\n\n    .dataframe thead th {\n        text-align: right;\n    }\n</style>\n<table border=\"1\" class=\"dataframe\">\n  <thead>\n    <tr style=\"text-align: right;\">\n      <th></th>\n      <th>reward</th>\n      <th>difficulty</th>\n      <th>duration</th>\n      <th>offer_type</th>\n      <th>id</th>\n      <th>email</th>\n      <th>mobile</th>\n      <th>social</th>\n      <th>web</th>\n    </tr>\n  </thead>\n  <tbody>\n    <tr>\n      <th>0</th>\n      <td>10</td>\n      <td>10</td>\n      <td>7</td>\n      <td>bogo</td>\n      <td>ae264e3637204a6fb9bb56bc8210ddfd</td>\n      <td>1</td>\n      <td>1</td>\n      <td>1</td>\n      <td>0</td>\n    </tr>\n    <tr>\n      <th>1</th>\n      <td>10</td>\n      <td>10</td>\n      <td>5</td>\n      <td>bogo</td>\n      <td>4d5c57ea9a6940dd891ad53e9dbe8da0</td>\n      <td>1</td>\n      <td>1</td>\n      <td>1</td>\n      <td>1</td>\n    </tr>\n    <tr>\n      <th>2</th>\n      <td>0</td>\n      <td>0</td>\n      <td>4</td>\n      <td>informational</td>\n      <td>3f207df678b143eea3cee63160fa8bed</td>\n      <td>1</td>\n      <td>1</td>\n      <td>0</td>\n      <td>1</td>\n    </tr>\n    <tr>\n      <th>3</th>\n      <td>5</td>\n      <td>5</td>\n      <td>7</td>\n      <td>bogo</td>\n      <td>9b98b8c7a33c4b65b9aebfe6a799e6d9</td>\n      <td>1</td>\n      <td>1</td>\n      <td>0</td>\n      <td>1</td>\n    </tr>\n    <tr>\n      <th>4</th>\n      <td>5</td>\n      <td>20</td>\n      <td>10</td>\n      <td>discount</td>\n      <td>0b1e1539f2cc45b7b9fa7c272da2e1d7</td>\n      <td>1</td>\n      <td>0</td>\n      <td>0</td>\n      <td>1</td>\n    </tr>\n    <tr>\n      <th>5</th>\n      <td>3</td>\n      <td>7</td>\n      <td>7</td>\n      <td>discount</td>\n      <td>2298d6c36e964ae4a3e7e9706d1fb8c2</td>\n      <td>1</td>\n      <td>1</td>\n      <td>1</td>\n      <td>1</td>\n    </tr>\n    <tr>\n      <th>6</th>\n      <td>2</td>\n      <td>10</td>\n      <td>10</td>\n      <td>discount</td>\n      <td>fafdcd668e3743c1bb461111dcafc2a4</td>\n      <td>1</td>\n      <td>1</td>\n      <td>1</td>\n      <td>1</td>\n    </tr>\n    <tr>\n      <th>7</th>\n      <td>0</td>\n      <td>0</td>\n      <td>3</td>\n      <td>informational</td>\n      <td>5a8bc65990b245e5a138643cd4eb9837</td>\n      <td>1</td>\n      <td>1</td>\n      <td>1</td>\n      <td>0</td>\n    </tr>\n    <tr>\n      <th>8</th>\n      <td>5</td>\n      <td>5</td>\n      <td>5</td>\n      <td>bogo</td>\n      <td>f19421c1d4aa40978ebb69ca19b0e20d</td>\n      <td>1</td>\n      <td>1</td>\n      <td>1</td>\n      <td>1</td>\n    </tr>\n    <tr>\n      <th>9</th>\n      <td>2</td>\n      <td>10</td>\n      <td>7</td>\n      <td>discount</td>\n      <td>2906b810c7d4411798c6938adc9daaa5</td>\n      <td>1</td>\n      <td>1</td>\n      <td>0</td>\n      <td>1</td>\n    </tr>\n  </tbody>\n</table>\n</div>"
     },
     "metadata": {},
     "execution_count": 6
    }
   ],
   "source": [
    "# encode channels \n",
    "mlb = MultiLabelBinarizer()\n",
    "channel = pd.DataFrame(mlb.fit_transform(portfolio['channels']), columns=mlb.classes_, index=portfolio.index)\n",
    "\n",
    "# drop channels column with new channel columns\n",
    "portfolio = portfolio.drop(['channels'], axis=1)\n",
    "\n",
    "# concatenate the original 'po' df with new channel df\n",
    "portfolio = pd.concat([portfolio,channel], join='inner', axis=1)\n",
    "portfolio"
   ]
  },
  {
   "cell_type": "code",
   "execution_count": 7,
   "metadata": {},
   "outputs": [
    {
     "output_type": "execute_result",
     "data": {
      "text/plain": [
       "   reward  difficulty  duration                                id  email  \\\n",
       "0      10          10         7  ae264e3637204a6fb9bb56bc8210ddfd      1   \n",
       "1      10          10         5  4d5c57ea9a6940dd891ad53e9dbe8da0      1   \n",
       "2       0           0         4  3f207df678b143eea3cee63160fa8bed      1   \n",
       "3       5           5         7  9b98b8c7a33c4b65b9aebfe6a799e6d9      1   \n",
       "4       5          20        10  0b1e1539f2cc45b7b9fa7c272da2e1d7      1   \n",
       "5       3           7         7  2298d6c36e964ae4a3e7e9706d1fb8c2      1   \n",
       "6       2          10        10  fafdcd668e3743c1bb461111dcafc2a4      1   \n",
       "7       0           0         3  5a8bc65990b245e5a138643cd4eb9837      1   \n",
       "8       5           5         5  f19421c1d4aa40978ebb69ca19b0e20d      1   \n",
       "9       2          10         7  2906b810c7d4411798c6938adc9daaa5      1   \n",
       "\n",
       "   mobile  social  web  bogo  discount  informational  \n",
       "0       1       1    0     1         0              0  \n",
       "1       1       1    1     1         0              0  \n",
       "2       1       0    1     0         0              1  \n",
       "3       1       0    1     1         0              0  \n",
       "4       0       0    1     0         1              0  \n",
       "5       1       1    1     0         1              0  \n",
       "6       1       1    1     0         1              0  \n",
       "7       1       1    0     0         0              1  \n",
       "8       1       1    1     1         0              0  \n",
       "9       1       0    1     0         1              0  "
      ],
      "text/html": "<div>\n<style scoped>\n    .dataframe tbody tr th:only-of-type {\n        vertical-align: middle;\n    }\n\n    .dataframe tbody tr th {\n        vertical-align: top;\n    }\n\n    .dataframe thead th {\n        text-align: right;\n    }\n</style>\n<table border=\"1\" class=\"dataframe\">\n  <thead>\n    <tr style=\"text-align: right;\">\n      <th></th>\n      <th>reward</th>\n      <th>difficulty</th>\n      <th>duration</th>\n      <th>id</th>\n      <th>email</th>\n      <th>mobile</th>\n      <th>social</th>\n      <th>web</th>\n      <th>bogo</th>\n      <th>discount</th>\n      <th>informational</th>\n    </tr>\n  </thead>\n  <tbody>\n    <tr>\n      <th>0</th>\n      <td>10</td>\n      <td>10</td>\n      <td>7</td>\n      <td>ae264e3637204a6fb9bb56bc8210ddfd</td>\n      <td>1</td>\n      <td>1</td>\n      <td>1</td>\n      <td>0</td>\n      <td>1</td>\n      <td>0</td>\n      <td>0</td>\n    </tr>\n    <tr>\n      <th>1</th>\n      <td>10</td>\n      <td>10</td>\n      <td>5</td>\n      <td>4d5c57ea9a6940dd891ad53e9dbe8da0</td>\n      <td>1</td>\n      <td>1</td>\n      <td>1</td>\n      <td>1</td>\n      <td>1</td>\n      <td>0</td>\n      <td>0</td>\n    </tr>\n    <tr>\n      <th>2</th>\n      <td>0</td>\n      <td>0</td>\n      <td>4</td>\n      <td>3f207df678b143eea3cee63160fa8bed</td>\n      <td>1</td>\n      <td>1</td>\n      <td>0</td>\n      <td>1</td>\n      <td>0</td>\n      <td>0</td>\n      <td>1</td>\n    </tr>\n    <tr>\n      <th>3</th>\n      <td>5</td>\n      <td>5</td>\n      <td>7</td>\n      <td>9b98b8c7a33c4b65b9aebfe6a799e6d9</td>\n      <td>1</td>\n      <td>1</td>\n      <td>0</td>\n      <td>1</td>\n      <td>1</td>\n      <td>0</td>\n      <td>0</td>\n    </tr>\n    <tr>\n      <th>4</th>\n      <td>5</td>\n      <td>20</td>\n      <td>10</td>\n      <td>0b1e1539f2cc45b7b9fa7c272da2e1d7</td>\n      <td>1</td>\n      <td>0</td>\n      <td>0</td>\n      <td>1</td>\n      <td>0</td>\n      <td>1</td>\n      <td>0</td>\n    </tr>\n    <tr>\n      <th>5</th>\n      <td>3</td>\n      <td>7</td>\n      <td>7</td>\n      <td>2298d6c36e964ae4a3e7e9706d1fb8c2</td>\n      <td>1</td>\n      <td>1</td>\n      <td>1</td>\n      <td>1</td>\n      <td>0</td>\n      <td>1</td>\n      <td>0</td>\n    </tr>\n    <tr>\n      <th>6</th>\n      <td>2</td>\n      <td>10</td>\n      <td>10</td>\n      <td>fafdcd668e3743c1bb461111dcafc2a4</td>\n      <td>1</td>\n      <td>1</td>\n      <td>1</td>\n      <td>1</td>\n      <td>0</td>\n      <td>1</td>\n      <td>0</td>\n    </tr>\n    <tr>\n      <th>7</th>\n      <td>0</td>\n      <td>0</td>\n      <td>3</td>\n      <td>5a8bc65990b245e5a138643cd4eb9837</td>\n      <td>1</td>\n      <td>1</td>\n      <td>1</td>\n      <td>0</td>\n      <td>0</td>\n      <td>0</td>\n      <td>1</td>\n    </tr>\n    <tr>\n      <th>8</th>\n      <td>5</td>\n      <td>5</td>\n      <td>5</td>\n      <td>f19421c1d4aa40978ebb69ca19b0e20d</td>\n      <td>1</td>\n      <td>1</td>\n      <td>1</td>\n      <td>1</td>\n      <td>1</td>\n      <td>0</td>\n      <td>0</td>\n    </tr>\n    <tr>\n      <th>9</th>\n      <td>2</td>\n      <td>10</td>\n      <td>7</td>\n      <td>2906b810c7d4411798c6938adc9daaa5</td>\n      <td>1</td>\n      <td>1</td>\n      <td>0</td>\n      <td>1</td>\n      <td>0</td>\n      <td>1</td>\n      <td>0</td>\n    </tr>\n  </tbody>\n</table>\n</div>"
     },
     "metadata": {},
     "execution_count": 7
    }
   ],
   "source": [
    "# encode offer types \n",
    "offer_type = pd.get_dummies(portfolio['offer_type'])\n",
    "\n",
    "# concatenate offer_type and portfolio\n",
    "portfolio = pd.concat([portfolio, offer_type], join='inner', axis=1)\n",
    "\n",
    "# drop offer_type column\n",
    "portfolio = portfolio.drop(['offer_type'], axis=1)\n",
    "\n",
    "portfolio"
   ]
  },
  {
   "cell_type": "code",
   "execution_count": 8,
   "metadata": {},
   "outputs": [
    {
     "output_type": "execute_result",
     "data": {
      "text/plain": [
       "   reward  difficulty  duration                                id  email  \\\n",
       "0      10          10       168  ae264e3637204a6fb9bb56bc8210ddfd      1   \n",
       "1      10          10       120  4d5c57ea9a6940dd891ad53e9dbe8da0      1   \n",
       "2       0           0        96  3f207df678b143eea3cee63160fa8bed      1   \n",
       "3       5           5       168  9b98b8c7a33c4b65b9aebfe6a799e6d9      1   \n",
       "4       5          20       240  0b1e1539f2cc45b7b9fa7c272da2e1d7      1   \n",
       "5       3           7       168  2298d6c36e964ae4a3e7e9706d1fb8c2      1   \n",
       "6       2          10       240  fafdcd668e3743c1bb461111dcafc2a4      1   \n",
       "7       0           0        72  5a8bc65990b245e5a138643cd4eb9837      1   \n",
       "8       5           5       120  f19421c1d4aa40978ebb69ca19b0e20d      1   \n",
       "9       2          10       168  2906b810c7d4411798c6938adc9daaa5      1   \n",
       "\n",
       "   mobile  social  web  bogo  discount  informational  \n",
       "0       1       1    0     1         0              0  \n",
       "1       1       1    1     1         0              0  \n",
       "2       1       0    1     0         0              1  \n",
       "3       1       0    1     1         0              0  \n",
       "4       0       0    1     0         1              0  \n",
       "5       1       1    1     0         1              0  \n",
       "6       1       1    1     0         1              0  \n",
       "7       1       1    0     0         0              1  \n",
       "8       1       1    1     1         0              0  \n",
       "9       1       0    1     0         1              0  "
      ],
      "text/html": "<div>\n<style scoped>\n    .dataframe tbody tr th:only-of-type {\n        vertical-align: middle;\n    }\n\n    .dataframe tbody tr th {\n        vertical-align: top;\n    }\n\n    .dataframe thead th {\n        text-align: right;\n    }\n</style>\n<table border=\"1\" class=\"dataframe\">\n  <thead>\n    <tr style=\"text-align: right;\">\n      <th></th>\n      <th>reward</th>\n      <th>difficulty</th>\n      <th>duration</th>\n      <th>id</th>\n      <th>email</th>\n      <th>mobile</th>\n      <th>social</th>\n      <th>web</th>\n      <th>bogo</th>\n      <th>discount</th>\n      <th>informational</th>\n    </tr>\n  </thead>\n  <tbody>\n    <tr>\n      <th>0</th>\n      <td>10</td>\n      <td>10</td>\n      <td>168</td>\n      <td>ae264e3637204a6fb9bb56bc8210ddfd</td>\n      <td>1</td>\n      <td>1</td>\n      <td>1</td>\n      <td>0</td>\n      <td>1</td>\n      <td>0</td>\n      <td>0</td>\n    </tr>\n    <tr>\n      <th>1</th>\n      <td>10</td>\n      <td>10</td>\n      <td>120</td>\n      <td>4d5c57ea9a6940dd891ad53e9dbe8da0</td>\n      <td>1</td>\n      <td>1</td>\n      <td>1</td>\n      <td>1</td>\n      <td>1</td>\n      <td>0</td>\n      <td>0</td>\n    </tr>\n    <tr>\n      <th>2</th>\n      <td>0</td>\n      <td>0</td>\n      <td>96</td>\n      <td>3f207df678b143eea3cee63160fa8bed</td>\n      <td>1</td>\n      <td>1</td>\n      <td>0</td>\n      <td>1</td>\n      <td>0</td>\n      <td>0</td>\n      <td>1</td>\n    </tr>\n    <tr>\n      <th>3</th>\n      <td>5</td>\n      <td>5</td>\n      <td>168</td>\n      <td>9b98b8c7a33c4b65b9aebfe6a799e6d9</td>\n      <td>1</td>\n      <td>1</td>\n      <td>0</td>\n      <td>1</td>\n      <td>1</td>\n      <td>0</td>\n      <td>0</td>\n    </tr>\n    <tr>\n      <th>4</th>\n      <td>5</td>\n      <td>20</td>\n      <td>240</td>\n      <td>0b1e1539f2cc45b7b9fa7c272da2e1d7</td>\n      <td>1</td>\n      <td>0</td>\n      <td>0</td>\n      <td>1</td>\n      <td>0</td>\n      <td>1</td>\n      <td>0</td>\n    </tr>\n    <tr>\n      <th>5</th>\n      <td>3</td>\n      <td>7</td>\n      <td>168</td>\n      <td>2298d6c36e964ae4a3e7e9706d1fb8c2</td>\n      <td>1</td>\n      <td>1</td>\n      <td>1</td>\n      <td>1</td>\n      <td>0</td>\n      <td>1</td>\n      <td>0</td>\n    </tr>\n    <tr>\n      <th>6</th>\n      <td>2</td>\n      <td>10</td>\n      <td>240</td>\n      <td>fafdcd668e3743c1bb461111dcafc2a4</td>\n      <td>1</td>\n      <td>1</td>\n      <td>1</td>\n      <td>1</td>\n      <td>0</td>\n      <td>1</td>\n      <td>0</td>\n    </tr>\n    <tr>\n      <th>7</th>\n      <td>0</td>\n      <td>0</td>\n      <td>72</td>\n      <td>5a8bc65990b245e5a138643cd4eb9837</td>\n      <td>1</td>\n      <td>1</td>\n      <td>1</td>\n      <td>0</td>\n      <td>0</td>\n      <td>0</td>\n      <td>1</td>\n    </tr>\n    <tr>\n      <th>8</th>\n      <td>5</td>\n      <td>5</td>\n      <td>120</td>\n      <td>f19421c1d4aa40978ebb69ca19b0e20d</td>\n      <td>1</td>\n      <td>1</td>\n      <td>1</td>\n      <td>1</td>\n      <td>1</td>\n      <td>0</td>\n      <td>0</td>\n    </tr>\n    <tr>\n      <th>9</th>\n      <td>2</td>\n      <td>10</td>\n      <td>168</td>\n      <td>2906b810c7d4411798c6938adc9daaa5</td>\n      <td>1</td>\n      <td>1</td>\n      <td>0</td>\n      <td>1</td>\n      <td>0</td>\n      <td>1</td>\n      <td>0</td>\n    </tr>\n  </tbody>\n</table>\n</div>"
     },
     "metadata": {},
     "execution_count": 8
    }
   ],
   "source": [
    "# change duration days column to duration hours\n",
    "portfolio['duration'] = portfolio['duration'] * 24\n",
    "portfolio"
   ]
  },
  {
   "cell_type": "code",
   "execution_count": 9,
   "metadata": {},
   "outputs": [
    {
     "output_type": "execute_result",
     "data": {
      "text/plain": [
       "   meta_reward  meta_required_spending  meta_max_hours  \\\n",
       "0           10                      10             168   \n",
       "1           10                      10             120   \n",
       "\n",
       "                           offer_id  meta_email  meta_mobile  meta_social  \\\n",
       "0  ae264e3637204a6fb9bb56bc8210ddfd           1            1            1   \n",
       "1  4d5c57ea9a6940dd891ad53e9dbe8da0           1            1            1   \n",
       "\n",
       "   meta_web  meta_bogo  meta_discount  meta_informational  \n",
       "0         0          1              0                   0  \n",
       "1         1          1              0                   0  "
      ],
      "text/html": "<div>\n<style scoped>\n    .dataframe tbody tr th:only-of-type {\n        vertical-align: middle;\n    }\n\n    .dataframe tbody tr th {\n        vertical-align: top;\n    }\n\n    .dataframe thead th {\n        text-align: right;\n    }\n</style>\n<table border=\"1\" class=\"dataframe\">\n  <thead>\n    <tr style=\"text-align: right;\">\n      <th></th>\n      <th>meta_reward</th>\n      <th>meta_required_spending</th>\n      <th>meta_max_hours</th>\n      <th>offer_id</th>\n      <th>meta_email</th>\n      <th>meta_mobile</th>\n      <th>meta_social</th>\n      <th>meta_web</th>\n      <th>meta_bogo</th>\n      <th>meta_discount</th>\n      <th>meta_informational</th>\n    </tr>\n  </thead>\n  <tbody>\n    <tr>\n      <th>0</th>\n      <td>10</td>\n      <td>10</td>\n      <td>168</td>\n      <td>ae264e3637204a6fb9bb56bc8210ddfd</td>\n      <td>1</td>\n      <td>1</td>\n      <td>1</td>\n      <td>0</td>\n      <td>1</td>\n      <td>0</td>\n      <td>0</td>\n    </tr>\n    <tr>\n      <th>1</th>\n      <td>10</td>\n      <td>10</td>\n      <td>120</td>\n      <td>4d5c57ea9a6940dd891ad53e9dbe8da0</td>\n      <td>1</td>\n      <td>1</td>\n      <td>1</td>\n      <td>1</td>\n      <td>1</td>\n      <td>0</td>\n      <td>0</td>\n    </tr>\n  </tbody>\n</table>\n</div>"
     },
     "metadata": {},
     "execution_count": 9
    }
   ],
   "source": [
    "# rename columns\n",
    "portfolio.rename(columns={'reward':'meta_reward','difficulty':'meta_required_spending', 'duration':'meta_max_hours','id': 'offer_id', 'email': 'meta_email', 'mobile':'meta_mobile', 'social':'meta_social', 'web':'meta_web', 'bogo':'meta_bogo', 'discount':'meta_discount', 'informational':'meta_informational'}, inplace=True)\n",
    "portfolio.head(2)"
   ]
  },
  {
   "cell_type": "markdown",
   "metadata": {},
   "source": [
    "#### Profile dataset"
   ]
  },
  {
   "cell_type": "code",
   "execution_count": 10,
   "metadata": {},
   "outputs": [
    {
     "output_type": "execute_result",
     "data": {
      "text/plain": [
       "  gender  age                                id  became_member_on    income\n",
       "0   None  118  68be06ca386d4c31939f3a4f0e3dd783          20170212       NaN\n",
       "1      F   55  0610b486422d4921ae7d2bf64640c50b          20170715  112000.0\n",
       "2   None  118  38fe809add3b4fcf9315a9694bb96ff5          20180712       NaN\n",
       "3      F   75  78afa995795e4d85b5d9ceeca43f5fef          20170509  100000.0\n",
       "4   None  118  a03223e636434f42ac4c3df47e8bac43          20170804       NaN"
      ],
      "text/html": "<div>\n<style scoped>\n    .dataframe tbody tr th:only-of-type {\n        vertical-align: middle;\n    }\n\n    .dataframe tbody tr th {\n        vertical-align: top;\n    }\n\n    .dataframe thead th {\n        text-align: right;\n    }\n</style>\n<table border=\"1\" class=\"dataframe\">\n  <thead>\n    <tr style=\"text-align: right;\">\n      <th></th>\n      <th>gender</th>\n      <th>age</th>\n      <th>id</th>\n      <th>became_member_on</th>\n      <th>income</th>\n    </tr>\n  </thead>\n  <tbody>\n    <tr>\n      <th>0</th>\n      <td>None</td>\n      <td>118</td>\n      <td>68be06ca386d4c31939f3a4f0e3dd783</td>\n      <td>20170212</td>\n      <td>NaN</td>\n    </tr>\n    <tr>\n      <th>1</th>\n      <td>F</td>\n      <td>55</td>\n      <td>0610b486422d4921ae7d2bf64640c50b</td>\n      <td>20170715</td>\n      <td>112000.0</td>\n    </tr>\n    <tr>\n      <th>2</th>\n      <td>None</td>\n      <td>118</td>\n      <td>38fe809add3b4fcf9315a9694bb96ff5</td>\n      <td>20180712</td>\n      <td>NaN</td>\n    </tr>\n    <tr>\n      <th>3</th>\n      <td>F</td>\n      <td>75</td>\n      <td>78afa995795e4d85b5d9ceeca43f5fef</td>\n      <td>20170509</td>\n      <td>100000.0</td>\n    </tr>\n    <tr>\n      <th>4</th>\n      <td>None</td>\n      <td>118</td>\n      <td>a03223e636434f42ac4c3df47e8bac43</td>\n      <td>20170804</td>\n      <td>NaN</td>\n    </tr>\n  </tbody>\n</table>\n</div>"
     },
     "metadata": {},
     "execution_count": 10
    }
   ],
   "source": [
    "profile.head()"
   ]
  },
  {
   "cell_type": "code",
   "execution_count": 11,
   "metadata": {},
   "outputs": [
    {
     "output_type": "execute_result",
     "data": {
      "text/plain": [
       "(17000, 5)"
      ]
     },
     "metadata": {},
     "execution_count": 11
    }
   ],
   "source": [
    "profile.shape"
   ]
  },
  {
   "cell_type": "code",
   "execution_count": 12,
   "metadata": {},
   "outputs": [
    {
     "output_type": "execute_result",
     "data": {
      "text/plain": [
       "  gender  age                                id became_member_on    income\n",
       "0   None  118  68be06ca386d4c31939f3a4f0e3dd783       2017-02-12       NaN\n",
       "1      F   55  0610b486422d4921ae7d2bf64640c50b       2017-07-15  112000.0\n",
       "2   None  118  38fe809add3b4fcf9315a9694bb96ff5       2018-07-12       NaN\n",
       "3      F   75  78afa995795e4d85b5d9ceeca43f5fef       2017-05-09  100000.0\n",
       "4   None  118  a03223e636434f42ac4c3df47e8bac43       2017-08-04       NaN\n",
       "5      M   68  e2127556f4f64592b11af22de27a7932       2018-04-26   70000.0\n",
       "6   None  118  8ec6ce2a7e7949b1bf142def7d0e0586       2017-09-25       NaN\n",
       "7   None  118  68617ca6246f4fbc85e91a2a49552598       2017-10-02       NaN\n",
       "8      M   65  389bc3fa690240e798340f5a15918d5c       2018-02-09   53000.0\n",
       "9   None  118  8974fc5686fe429db53ddde067b88302       2016-11-22       NaN"
      ],
      "text/html": "<div>\n<style scoped>\n    .dataframe tbody tr th:only-of-type {\n        vertical-align: middle;\n    }\n\n    .dataframe tbody tr th {\n        vertical-align: top;\n    }\n\n    .dataframe thead th {\n        text-align: right;\n    }\n</style>\n<table border=\"1\" class=\"dataframe\">\n  <thead>\n    <tr style=\"text-align: right;\">\n      <th></th>\n      <th>gender</th>\n      <th>age</th>\n      <th>id</th>\n      <th>became_member_on</th>\n      <th>income</th>\n    </tr>\n  </thead>\n  <tbody>\n    <tr>\n      <th>0</th>\n      <td>None</td>\n      <td>118</td>\n      <td>68be06ca386d4c31939f3a4f0e3dd783</td>\n      <td>2017-02-12</td>\n      <td>NaN</td>\n    </tr>\n    <tr>\n      <th>1</th>\n      <td>F</td>\n      <td>55</td>\n      <td>0610b486422d4921ae7d2bf64640c50b</td>\n      <td>2017-07-15</td>\n      <td>112000.0</td>\n    </tr>\n    <tr>\n      <th>2</th>\n      <td>None</td>\n      <td>118</td>\n      <td>38fe809add3b4fcf9315a9694bb96ff5</td>\n      <td>2018-07-12</td>\n      <td>NaN</td>\n    </tr>\n    <tr>\n      <th>3</th>\n      <td>F</td>\n      <td>75</td>\n      <td>78afa995795e4d85b5d9ceeca43f5fef</td>\n      <td>2017-05-09</td>\n      <td>100000.0</td>\n    </tr>\n    <tr>\n      <th>4</th>\n      <td>None</td>\n      <td>118</td>\n      <td>a03223e636434f42ac4c3df47e8bac43</td>\n      <td>2017-08-04</td>\n      <td>NaN</td>\n    </tr>\n    <tr>\n      <th>5</th>\n      <td>M</td>\n      <td>68</td>\n      <td>e2127556f4f64592b11af22de27a7932</td>\n      <td>2018-04-26</td>\n      <td>70000.0</td>\n    </tr>\n    <tr>\n      <th>6</th>\n      <td>None</td>\n      <td>118</td>\n      <td>8ec6ce2a7e7949b1bf142def7d0e0586</td>\n      <td>2017-09-25</td>\n      <td>NaN</td>\n    </tr>\n    <tr>\n      <th>7</th>\n      <td>None</td>\n      <td>118</td>\n      <td>68617ca6246f4fbc85e91a2a49552598</td>\n      <td>2017-10-02</td>\n      <td>NaN</td>\n    </tr>\n    <tr>\n      <th>8</th>\n      <td>M</td>\n      <td>65</td>\n      <td>389bc3fa690240e798340f5a15918d5c</td>\n      <td>2018-02-09</td>\n      <td>53000.0</td>\n    </tr>\n    <tr>\n      <th>9</th>\n      <td>None</td>\n      <td>118</td>\n      <td>8974fc5686fe429db53ddde067b88302</td>\n      <td>2016-11-22</td>\n      <td>NaN</td>\n    </tr>\n  </tbody>\n</table>\n</div>"
     },
     "metadata": {},
     "execution_count": 12
    }
   ],
   "source": [
    "# convert became_member_on to date\n",
    "profile['became_member_on'] = pd.to_datetime(profile['became_member_on'], format='%Y%m%d')\n",
    "profile.head(10)"
   ]
  },
  {
   "cell_type": "code",
   "execution_count": 13,
   "metadata": {},
   "outputs": [
    {
     "output_type": "execute_result",
     "data": {
      "text/plain": [
       "  gender  age                                id    income  \\\n",
       "0   None  118  68be06ca386d4c31939f3a4f0e3dd783       NaN   \n",
       "1      F   55  0610b486422d4921ae7d2bf64640c50b  112000.0   \n",
       "2   None  118  38fe809add3b4fcf9315a9694bb96ff5       NaN   \n",
       "3      F   75  78afa995795e4d85b5d9ceeca43f5fef  100000.0   \n",
       "4   None  118  a03223e636434f42ac4c3df47e8bac43       NaN   \n",
       "\n",
       "   profile_membership_days  \n",
       "0                     1516  \n",
       "1                     1363  \n",
       "2                     1001  \n",
       "3                     1430  \n",
       "4                     1343  "
      ],
      "text/html": "<div>\n<style scoped>\n    .dataframe tbody tr th:only-of-type {\n        vertical-align: middle;\n    }\n\n    .dataframe tbody tr th {\n        vertical-align: top;\n    }\n\n    .dataframe thead th {\n        text-align: right;\n    }\n</style>\n<table border=\"1\" class=\"dataframe\">\n  <thead>\n    <tr style=\"text-align: right;\">\n      <th></th>\n      <th>gender</th>\n      <th>age</th>\n      <th>id</th>\n      <th>income</th>\n      <th>profile_membership_days</th>\n    </tr>\n  </thead>\n  <tbody>\n    <tr>\n      <th>0</th>\n      <td>None</td>\n      <td>118</td>\n      <td>68be06ca386d4c31939f3a4f0e3dd783</td>\n      <td>NaN</td>\n      <td>1516</td>\n    </tr>\n    <tr>\n      <th>1</th>\n      <td>F</td>\n      <td>55</td>\n      <td>0610b486422d4921ae7d2bf64640c50b</td>\n      <td>112000.0</td>\n      <td>1363</td>\n    </tr>\n    <tr>\n      <th>2</th>\n      <td>None</td>\n      <td>118</td>\n      <td>38fe809add3b4fcf9315a9694bb96ff5</td>\n      <td>NaN</td>\n      <td>1001</td>\n    </tr>\n    <tr>\n      <th>3</th>\n      <td>F</td>\n      <td>75</td>\n      <td>78afa995795e4d85b5d9ceeca43f5fef</td>\n      <td>100000.0</td>\n      <td>1430</td>\n    </tr>\n    <tr>\n      <th>4</th>\n      <td>None</td>\n      <td>118</td>\n      <td>a03223e636434f42ac4c3df47e8bac43</td>\n      <td>NaN</td>\n      <td>1343</td>\n    </tr>\n  </tbody>\n</table>\n</div>"
     },
     "metadata": {},
     "execution_count": 13
    }
   ],
   "source": [
    "# add total days of membership, as the date of today - date of became member\n",
    "\n",
    "def create_days(pf):\n",
    "    '''\n",
    "    Input: it takes the current date and extract the date of became a member\n",
    "    Output: number of days of membership\n",
    "    '''\n",
    "    current_date = pd.to_datetime('today')\n",
    "    \n",
    "    return(current_date - pf['became_member_on'])\n",
    "\n",
    "profile['profile_membership_days'] = profile.apply(create_days, axis=1)\n",
    "profile['profile_membership_days'] = profile['profile_membership_days'].dt.days\n",
    "profile.drop(['became_member_on'], axis=1, inplace=True)\n",
    "\n",
    "profile.head()"
   ]
  },
  {
   "cell_type": "code",
   "execution_count": 14,
   "metadata": {},
   "outputs": [
    {
     "output_type": "execute_result",
     "data": {
      "text/plain": [
       "3"
      ]
     },
     "metadata": {},
     "execution_count": 14
    }
   ],
   "source": [
    "profile['gender'].nunique()"
   ]
  },
  {
   "cell_type": "code",
   "execution_count": 15,
   "metadata": {},
   "outputs": [
    {
     "output_type": "execute_result",
     "data": {
      "text/plain": [
       "   gender  age                                id    income  \\\n",
       "0       0  118  68be06ca386d4c31939f3a4f0e3dd783       NaN   \n",
       "1       2   55  0610b486422d4921ae7d2bf64640c50b  112000.0   \n",
       "2       0  118  38fe809add3b4fcf9315a9694bb96ff5       NaN   \n",
       "3       2   75  78afa995795e4d85b5d9ceeca43f5fef  100000.0   \n",
       "4       0  118  a03223e636434f42ac4c3df47e8bac43       NaN   \n",
       "5       1   68  e2127556f4f64592b11af22de27a7932   70000.0   \n",
       "6       0  118  8ec6ce2a7e7949b1bf142def7d0e0586       NaN   \n",
       "7       0  118  68617ca6246f4fbc85e91a2a49552598       NaN   \n",
       "8       1   65  389bc3fa690240e798340f5a15918d5c   53000.0   \n",
       "9       0  118  8974fc5686fe429db53ddde067b88302       NaN   \n",
       "\n",
       "   profile_membership_days  \n",
       "0                     1516  \n",
       "1                     1363  \n",
       "2                     1001  \n",
       "3                     1430  \n",
       "4                     1343  \n",
       "5                     1078  \n",
       "6                     1291  \n",
       "7                     1284  \n",
       "8                     1154  \n",
       "9                     1598  "
      ],
      "text/html": "<div>\n<style scoped>\n    .dataframe tbody tr th:only-of-type {\n        vertical-align: middle;\n    }\n\n    .dataframe tbody tr th {\n        vertical-align: top;\n    }\n\n    .dataframe thead th {\n        text-align: right;\n    }\n</style>\n<table border=\"1\" class=\"dataframe\">\n  <thead>\n    <tr style=\"text-align: right;\">\n      <th></th>\n      <th>gender</th>\n      <th>age</th>\n      <th>id</th>\n      <th>income</th>\n      <th>profile_membership_days</th>\n    </tr>\n  </thead>\n  <tbody>\n    <tr>\n      <th>0</th>\n      <td>0</td>\n      <td>118</td>\n      <td>68be06ca386d4c31939f3a4f0e3dd783</td>\n      <td>NaN</td>\n      <td>1516</td>\n    </tr>\n    <tr>\n      <th>1</th>\n      <td>2</td>\n      <td>55</td>\n      <td>0610b486422d4921ae7d2bf64640c50b</td>\n      <td>112000.0</td>\n      <td>1363</td>\n    </tr>\n    <tr>\n      <th>2</th>\n      <td>0</td>\n      <td>118</td>\n      <td>38fe809add3b4fcf9315a9694bb96ff5</td>\n      <td>NaN</td>\n      <td>1001</td>\n    </tr>\n    <tr>\n      <th>3</th>\n      <td>2</td>\n      <td>75</td>\n      <td>78afa995795e4d85b5d9ceeca43f5fef</td>\n      <td>100000.0</td>\n      <td>1430</td>\n    </tr>\n    <tr>\n      <th>4</th>\n      <td>0</td>\n      <td>118</td>\n      <td>a03223e636434f42ac4c3df47e8bac43</td>\n      <td>NaN</td>\n      <td>1343</td>\n    </tr>\n    <tr>\n      <th>5</th>\n      <td>1</td>\n      <td>68</td>\n      <td>e2127556f4f64592b11af22de27a7932</td>\n      <td>70000.0</td>\n      <td>1078</td>\n    </tr>\n    <tr>\n      <th>6</th>\n      <td>0</td>\n      <td>118</td>\n      <td>8ec6ce2a7e7949b1bf142def7d0e0586</td>\n      <td>NaN</td>\n      <td>1291</td>\n    </tr>\n    <tr>\n      <th>7</th>\n      <td>0</td>\n      <td>118</td>\n      <td>68617ca6246f4fbc85e91a2a49552598</td>\n      <td>NaN</td>\n      <td>1284</td>\n    </tr>\n    <tr>\n      <th>8</th>\n      <td>1</td>\n      <td>65</td>\n      <td>389bc3fa690240e798340f5a15918d5c</td>\n      <td>53000.0</td>\n      <td>1154</td>\n    </tr>\n    <tr>\n      <th>9</th>\n      <td>0</td>\n      <td>118</td>\n      <td>8974fc5686fe429db53ddde067b88302</td>\n      <td>NaN</td>\n      <td>1598</td>\n    </tr>\n  </tbody>\n</table>\n</div>"
     },
     "metadata": {},
     "execution_count": 15
    }
   ],
   "source": [
    "# encode gender column\n",
    "profile['gender'] = profile['gender'].apply(lambda x: 1 if x =='M' else 2 if x == 'F' else 0)\n",
    "profile.head(10)"
   ]
  },
  {
   "cell_type": "code",
   "execution_count": 16,
   "metadata": {},
   "outputs": [
    {
     "output_type": "execute_result",
     "data": {
      "text/plain": [
       "118    2175\n",
       "58      408\n",
       "53      372\n",
       "51      363\n",
       "54      359\n",
       "       ... \n",
       "100      12\n",
       "96        8\n",
       "98        5\n",
       "99        5\n",
       "101       5\n",
       "Name: age, Length: 85, dtype: int64"
      ]
     },
     "metadata": {},
     "execution_count": 16
    }
   ],
   "source": [
    "profile['age'].value_counts()"
   ]
  },
  {
   "cell_type": "code",
   "execution_count": 17,
   "metadata": {},
   "outputs": [
    {
     "output_type": "execute_result",
     "data": {
      "text/plain": [
       "       gender  age  income\n",
       "0           0  118     NaN\n",
       "2           0  118     NaN\n",
       "4           0  118     NaN\n",
       "6           0  118     NaN\n",
       "7           0  118     NaN\n",
       "...       ...  ...     ...\n",
       "16980       0  118     NaN\n",
       "16982       0  118     NaN\n",
       "16989       0  118     NaN\n",
       "16991       0  118     NaN\n",
       "16994       0  118     NaN\n",
       "\n",
       "[2175 rows x 3 columns]"
      ],
      "text/html": "<div>\n<style scoped>\n    .dataframe tbody tr th:only-of-type {\n        vertical-align: middle;\n    }\n\n    .dataframe tbody tr th {\n        vertical-align: top;\n    }\n\n    .dataframe thead th {\n        text-align: right;\n    }\n</style>\n<table border=\"1\" class=\"dataframe\">\n  <thead>\n    <tr style=\"text-align: right;\">\n      <th></th>\n      <th>gender</th>\n      <th>age</th>\n      <th>income</th>\n    </tr>\n  </thead>\n  <tbody>\n    <tr>\n      <th>0</th>\n      <td>0</td>\n      <td>118</td>\n      <td>NaN</td>\n    </tr>\n    <tr>\n      <th>2</th>\n      <td>0</td>\n      <td>118</td>\n      <td>NaN</td>\n    </tr>\n    <tr>\n      <th>4</th>\n      <td>0</td>\n      <td>118</td>\n      <td>NaN</td>\n    </tr>\n    <tr>\n      <th>6</th>\n      <td>0</td>\n      <td>118</td>\n      <td>NaN</td>\n    </tr>\n    <tr>\n      <th>7</th>\n      <td>0</td>\n      <td>118</td>\n      <td>NaN</td>\n    </tr>\n    <tr>\n      <th>...</th>\n      <td>...</td>\n      <td>...</td>\n      <td>...</td>\n    </tr>\n    <tr>\n      <th>16980</th>\n      <td>0</td>\n      <td>118</td>\n      <td>NaN</td>\n    </tr>\n    <tr>\n      <th>16982</th>\n      <td>0</td>\n      <td>118</td>\n      <td>NaN</td>\n    </tr>\n    <tr>\n      <th>16989</th>\n      <td>0</td>\n      <td>118</td>\n      <td>NaN</td>\n    </tr>\n    <tr>\n      <th>16991</th>\n      <td>0</td>\n      <td>118</td>\n      <td>NaN</td>\n    </tr>\n    <tr>\n      <th>16994</th>\n      <td>0</td>\n      <td>118</td>\n      <td>NaN</td>\n    </tr>\n  </tbody>\n</table>\n<p>2175 rows × 3 columns</p>\n</div>"
     },
     "metadata": {},
     "execution_count": 17
    }
   ],
   "source": [
    "profile[profile.age == 118][['gender', 'age', 'income']]"
   ]
  },
  {
   "cell_type": "code",
   "execution_count": 18,
   "metadata": {},
   "outputs": [
    {
     "output_type": "execute_result",
     "data": {
      "text/plain": [
       "    gender   age                                id    income  \\\n",
       "1        2  55.0  0610b486422d4921ae7d2bf64640c50b  112000.0   \n",
       "3        2  75.0  78afa995795e4d85b5d9ceeca43f5fef  100000.0   \n",
       "5        1  68.0  e2127556f4f64592b11af22de27a7932   70000.0   \n",
       "8        1  65.0  389bc3fa690240e798340f5a15918d5c   53000.0   \n",
       "12       1  58.0  2eeac8d8feae4a8cad5a6af0499a211d   51000.0   \n",
       "13       2  61.0  aa4862eba776480b8bb9c68455b8c2e1   57000.0   \n",
       "14       1  26.0  e12aeaf2d47d42479ea1c4ac3d8286c6   46000.0   \n",
       "15       2  62.0  31dda685af34476cad5bc968bdb01c53   71000.0   \n",
       "16       1  49.0  62cf5e10845442329191fc246e7bcea3   52000.0   \n",
       "18       1  57.0  6445de3b47274c759400cd68131d91b4   42000.0   \n",
       "19       2  61.0  a448667f336b42c9a66fc5ffd5d73772   40000.0   \n",
       "20       2  40.0  440cf1fd7580490c971d8c651ed962af   71000.0   \n",
       "21       1  64.0  4b0da7e80e5945209a1fdddfe813dbe0  100000.0   \n",
       "22       2  78.0  c27e0d6ab72c455a8bb66d980963de60   71000.0   \n",
       "24       1  42.0  f806632c011441378d4646567f357a21   69000.0   \n",
       "25       2  56.0  d058f73bf8674a26a95227db098147b1   88000.0   \n",
       "27       2  33.0  c6c9884912c645429f3333f912b55f44   52000.0   \n",
       "28       2  46.0  7429a044884842d6862f516c38b1156f   59000.0   \n",
       "29       1  59.0  ebe7ef46ea6f4963a7dd49f501b26779   41000.0   \n",
       "30       1  67.0  5917d13f6fa04286abdf95f4d5cefb1e   96000.0   \n",
       "\n",
       "    profile_membership_days  \n",
       "1                      1363  \n",
       "3                      1430  \n",
       "5                      1078  \n",
       "8                      1154  \n",
       "12                     1244  \n",
       "13                     1305  \n",
       "14                     2611  \n",
       "15                     1883  \n",
       "16                     2338  \n",
       "18                     1194  \n",
       "19                     1073  \n",
       "20                     1800  \n",
       "21                     1307  \n",
       "22                     1392  \n",
       "24                     2797  \n",
       "25                     1076  \n",
       "27                     1290  \n",
       "28                     1305  \n",
       "29                     2269  \n",
       "30                     2420  "
      ],
      "text/html": "<div>\n<style scoped>\n    .dataframe tbody tr th:only-of-type {\n        vertical-align: middle;\n    }\n\n    .dataframe tbody tr th {\n        vertical-align: top;\n    }\n\n    .dataframe thead th {\n        text-align: right;\n    }\n</style>\n<table border=\"1\" class=\"dataframe\">\n  <thead>\n    <tr style=\"text-align: right;\">\n      <th></th>\n      <th>gender</th>\n      <th>age</th>\n      <th>id</th>\n      <th>income</th>\n      <th>profile_membership_days</th>\n    </tr>\n  </thead>\n  <tbody>\n    <tr>\n      <th>1</th>\n      <td>2</td>\n      <td>55.0</td>\n      <td>0610b486422d4921ae7d2bf64640c50b</td>\n      <td>112000.0</td>\n      <td>1363</td>\n    </tr>\n    <tr>\n      <th>3</th>\n      <td>2</td>\n      <td>75.0</td>\n      <td>78afa995795e4d85b5d9ceeca43f5fef</td>\n      <td>100000.0</td>\n      <td>1430</td>\n    </tr>\n    <tr>\n      <th>5</th>\n      <td>1</td>\n      <td>68.0</td>\n      <td>e2127556f4f64592b11af22de27a7932</td>\n      <td>70000.0</td>\n      <td>1078</td>\n    </tr>\n    <tr>\n      <th>8</th>\n      <td>1</td>\n      <td>65.0</td>\n      <td>389bc3fa690240e798340f5a15918d5c</td>\n      <td>53000.0</td>\n      <td>1154</td>\n    </tr>\n    <tr>\n      <th>12</th>\n      <td>1</td>\n      <td>58.0</td>\n      <td>2eeac8d8feae4a8cad5a6af0499a211d</td>\n      <td>51000.0</td>\n      <td>1244</td>\n    </tr>\n    <tr>\n      <th>13</th>\n      <td>2</td>\n      <td>61.0</td>\n      <td>aa4862eba776480b8bb9c68455b8c2e1</td>\n      <td>57000.0</td>\n      <td>1305</td>\n    </tr>\n    <tr>\n      <th>14</th>\n      <td>1</td>\n      <td>26.0</td>\n      <td>e12aeaf2d47d42479ea1c4ac3d8286c6</td>\n      <td>46000.0</td>\n      <td>2611</td>\n    </tr>\n    <tr>\n      <th>15</th>\n      <td>2</td>\n      <td>62.0</td>\n      <td>31dda685af34476cad5bc968bdb01c53</td>\n      <td>71000.0</td>\n      <td>1883</td>\n    </tr>\n    <tr>\n      <th>16</th>\n      <td>1</td>\n      <td>49.0</td>\n      <td>62cf5e10845442329191fc246e7bcea3</td>\n      <td>52000.0</td>\n      <td>2338</td>\n    </tr>\n    <tr>\n      <th>18</th>\n      <td>1</td>\n      <td>57.0</td>\n      <td>6445de3b47274c759400cd68131d91b4</td>\n      <td>42000.0</td>\n      <td>1194</td>\n    </tr>\n    <tr>\n      <th>19</th>\n      <td>2</td>\n      <td>61.0</td>\n      <td>a448667f336b42c9a66fc5ffd5d73772</td>\n      <td>40000.0</td>\n      <td>1073</td>\n    </tr>\n    <tr>\n      <th>20</th>\n      <td>2</td>\n      <td>40.0</td>\n      <td>440cf1fd7580490c971d8c651ed962af</td>\n      <td>71000.0</td>\n      <td>1800</td>\n    </tr>\n    <tr>\n      <th>21</th>\n      <td>1</td>\n      <td>64.0</td>\n      <td>4b0da7e80e5945209a1fdddfe813dbe0</td>\n      <td>100000.0</td>\n      <td>1307</td>\n    </tr>\n    <tr>\n      <th>22</th>\n      <td>2</td>\n      <td>78.0</td>\n      <td>c27e0d6ab72c455a8bb66d980963de60</td>\n      <td>71000.0</td>\n      <td>1392</td>\n    </tr>\n    <tr>\n      <th>24</th>\n      <td>1</td>\n      <td>42.0</td>\n      <td>f806632c011441378d4646567f357a21</td>\n      <td>69000.0</td>\n      <td>2797</td>\n    </tr>\n    <tr>\n      <th>25</th>\n      <td>2</td>\n      <td>56.0</td>\n      <td>d058f73bf8674a26a95227db098147b1</td>\n      <td>88000.0</td>\n      <td>1076</td>\n    </tr>\n    <tr>\n      <th>27</th>\n      <td>2</td>\n      <td>33.0</td>\n      <td>c6c9884912c645429f3333f912b55f44</td>\n      <td>52000.0</td>\n      <td>1290</td>\n    </tr>\n    <tr>\n      <th>28</th>\n      <td>2</td>\n      <td>46.0</td>\n      <td>7429a044884842d6862f516c38b1156f</td>\n      <td>59000.0</td>\n      <td>1305</td>\n    </tr>\n    <tr>\n      <th>29</th>\n      <td>1</td>\n      <td>59.0</td>\n      <td>ebe7ef46ea6f4963a7dd49f501b26779</td>\n      <td>41000.0</td>\n      <td>2269</td>\n    </tr>\n    <tr>\n      <th>30</th>\n      <td>1</td>\n      <td>67.0</td>\n      <td>5917d13f6fa04286abdf95f4d5cefb1e</td>\n      <td>96000.0</td>\n      <td>2420</td>\n    </tr>\n  </tbody>\n</table>\n</div>"
     },
     "metadata": {},
     "execution_count": 18
    }
   ],
   "source": [
    "# 118 represents missing values\n",
    "profile['age'] = profile['age'].apply(lambda x: np.nan if x == 118 else x)\n",
    "# drop these missing values\n",
    "profile.dropna(inplace=True)\n",
    "profile.head(20)"
   ]
  },
  {
   "cell_type": "code",
   "execution_count": 19,
   "metadata": {},
   "outputs": [
    {
     "output_type": "execute_result",
     "data": {
      "text/plain": [
       "(14825, 5)"
      ]
     },
     "metadata": {},
     "execution_count": 19
    }
   ],
   "source": [
    "profile.shape"
   ]
  },
  {
   "cell_type": "code",
   "execution_count": 20,
   "metadata": {},
   "outputs": [
    {
     "output_type": "execute_result",
     "data": {
      "text/plain": [
       "0"
      ]
     },
     "metadata": {},
     "execution_count": 20
    }
   ],
   "source": [
    "profile.duplicated().sum()"
   ]
  },
  {
   "cell_type": "code",
   "execution_count": 21,
   "metadata": {},
   "outputs": [
    {
     "output_type": "execute_result",
     "data": {
      "text/plain": [
       "   profile_gender  profile_age                         member_id  \\\n",
       "1               2         55.0  0610b486422d4921ae7d2bf64640c50b   \n",
       "3               2         75.0  78afa995795e4d85b5d9ceeca43f5fef   \n",
       "\n",
       "   profile_income  profile_membership_days  \n",
       "1        112000.0                     1363  \n",
       "3        100000.0                     1430  "
      ],
      "text/html": "<div>\n<style scoped>\n    .dataframe tbody tr th:only-of-type {\n        vertical-align: middle;\n    }\n\n    .dataframe tbody tr th {\n        vertical-align: top;\n    }\n\n    .dataframe thead th {\n        text-align: right;\n    }\n</style>\n<table border=\"1\" class=\"dataframe\">\n  <thead>\n    <tr style=\"text-align: right;\">\n      <th></th>\n      <th>profile_gender</th>\n      <th>profile_age</th>\n      <th>member_id</th>\n      <th>profile_income</th>\n      <th>profile_membership_days</th>\n    </tr>\n  </thead>\n  <tbody>\n    <tr>\n      <th>1</th>\n      <td>2</td>\n      <td>55.0</td>\n      <td>0610b486422d4921ae7d2bf64640c50b</td>\n      <td>112000.0</td>\n      <td>1363</td>\n    </tr>\n    <tr>\n      <th>3</th>\n      <td>2</td>\n      <td>75.0</td>\n      <td>78afa995795e4d85b5d9ceeca43f5fef</td>\n      <td>100000.0</td>\n      <td>1430</td>\n    </tr>\n  </tbody>\n</table>\n</div>"
     },
     "metadata": {},
     "execution_count": 21
    }
   ],
   "source": [
    "# rename id column to member_id\n",
    "profile.rename(columns={'id': 'member_id','gender':'profile_gender', 'age':'profile_age', 'income':'profile_income'}, inplace=True)\n",
    "profile.head(2)"
   ]
  },
  {
   "cell_type": "markdown",
   "metadata": {},
   "source": [
    "#### Transcript dataset"
   ]
  },
  {
   "cell_type": "code",
   "execution_count": 22,
   "metadata": {},
   "outputs": [
    {
     "output_type": "execute_result",
     "data": {
      "text/plain": [
       "                             person           event  \\\n",
       "0  78afa995795e4d85b5d9ceeca43f5fef  offer received   \n",
       "1  a03223e636434f42ac4c3df47e8bac43  offer received   \n",
       "2  e2127556f4f64592b11af22de27a7932  offer received   \n",
       "3  8ec6ce2a7e7949b1bf142def7d0e0586  offer received   \n",
       "4  68617ca6246f4fbc85e91a2a49552598  offer received   \n",
       "\n",
       "                                              value  time  \n",
       "0  {'offer id': '9b98b8c7a33c4b65b9aebfe6a799e6d9'}     0  \n",
       "1  {'offer id': '0b1e1539f2cc45b7b9fa7c272da2e1d7'}     0  \n",
       "2  {'offer id': '2906b810c7d4411798c6938adc9daaa5'}     0  \n",
       "3  {'offer id': 'fafdcd668e3743c1bb461111dcafc2a4'}     0  \n",
       "4  {'offer id': '4d5c57ea9a6940dd891ad53e9dbe8da0'}     0  "
      ],
      "text/html": "<div>\n<style scoped>\n    .dataframe tbody tr th:only-of-type {\n        vertical-align: middle;\n    }\n\n    .dataframe tbody tr th {\n        vertical-align: top;\n    }\n\n    .dataframe thead th {\n        text-align: right;\n    }\n</style>\n<table border=\"1\" class=\"dataframe\">\n  <thead>\n    <tr style=\"text-align: right;\">\n      <th></th>\n      <th>person</th>\n      <th>event</th>\n      <th>value</th>\n      <th>time</th>\n    </tr>\n  </thead>\n  <tbody>\n    <tr>\n      <th>0</th>\n      <td>78afa995795e4d85b5d9ceeca43f5fef</td>\n      <td>offer received</td>\n      <td>{'offer id': '9b98b8c7a33c4b65b9aebfe6a799e6d9'}</td>\n      <td>0</td>\n    </tr>\n    <tr>\n      <th>1</th>\n      <td>a03223e636434f42ac4c3df47e8bac43</td>\n      <td>offer received</td>\n      <td>{'offer id': '0b1e1539f2cc45b7b9fa7c272da2e1d7'}</td>\n      <td>0</td>\n    </tr>\n    <tr>\n      <th>2</th>\n      <td>e2127556f4f64592b11af22de27a7932</td>\n      <td>offer received</td>\n      <td>{'offer id': '2906b810c7d4411798c6938adc9daaa5'}</td>\n      <td>0</td>\n    </tr>\n    <tr>\n      <th>3</th>\n      <td>8ec6ce2a7e7949b1bf142def7d0e0586</td>\n      <td>offer received</td>\n      <td>{'offer id': 'fafdcd668e3743c1bb461111dcafc2a4'}</td>\n      <td>0</td>\n    </tr>\n    <tr>\n      <th>4</th>\n      <td>68617ca6246f4fbc85e91a2a49552598</td>\n      <td>offer received</td>\n      <td>{'offer id': '4d5c57ea9a6940dd891ad53e9dbe8da0'}</td>\n      <td>0</td>\n    </tr>\n  </tbody>\n</table>\n</div>"
     },
     "metadata": {},
     "execution_count": 22
    }
   ],
   "source": [
    "transcript.head()"
   ]
  },
  {
   "cell_type": "code",
   "execution_count": 23,
   "metadata": {},
   "outputs": [
    {
     "output_type": "execute_result",
     "data": {
      "text/plain": [
       "(306534, 4)"
      ]
     },
     "metadata": {},
     "execution_count": 23
    }
   ],
   "source": [
    "transcript.shape"
   ]
  },
  {
   "cell_type": "code",
   "execution_count": 24,
   "metadata": {},
   "outputs": [
    {
     "output_type": "stream",
     "name": "stdout",
     "text": [
      "<class 'pandas.core.frame.DataFrame'>\nRangeIndex: 306534 entries, 0 to 306533\nData columns (total 4 columns):\n #   Column  Non-Null Count   Dtype \n---  ------  --------------   ----- \n 0   person  306534 non-null  object\n 1   event   306534 non-null  object\n 2   value   306534 non-null  object\n 3   time    306534 non-null  int64 \ndtypes: int64(1), object(3)\nmemory usage: 9.4+ MB\n"
     ]
    }
   ],
   "source": [
    "transcript.info()"
   ]
  },
  {
   "cell_type": "code",
   "execution_count": 25,
   "metadata": {},
   "outputs": [
    {
     "output_type": "execute_result",
     "data": {
      "text/plain": [
       "array(['offer received', 'offer viewed', 'transaction', 'offer completed'],\n",
       "      dtype=object)"
      ]
     },
     "metadata": {},
     "execution_count": 25
    }
   ],
   "source": [
    "transcript.event.unique()"
   ]
  },
  {
   "cell_type": "code",
   "execution_count": 26,
   "metadata": {},
   "outputs": [
    {
     "output_type": "execute_result",
     "data": {
      "text/plain": [
       "                             person  \\\n",
       "0  78afa995795e4d85b5d9ceeca43f5fef   \n",
       "1  a03223e636434f42ac4c3df47e8bac43   \n",
       "2  e2127556f4f64592b11af22de27a7932   \n",
       "3  8ec6ce2a7e7949b1bf142def7d0e0586   \n",
       "4  68617ca6246f4fbc85e91a2a49552598   \n",
       "\n",
       "                                              value  time  offer completed  \\\n",
       "0  {'offer id': '9b98b8c7a33c4b65b9aebfe6a799e6d9'}     0                0   \n",
       "1  {'offer id': '0b1e1539f2cc45b7b9fa7c272da2e1d7'}     0                0   \n",
       "2  {'offer id': '2906b810c7d4411798c6938adc9daaa5'}     0                0   \n",
       "3  {'offer id': 'fafdcd668e3743c1bb461111dcafc2a4'}     0                0   \n",
       "4  {'offer id': '4d5c57ea9a6940dd891ad53e9dbe8da0'}     0                0   \n",
       "\n",
       "   offer received  offer viewed  transaction  \n",
       "0               1             0            0  \n",
       "1               1             0            0  \n",
       "2               1             0            0  \n",
       "3               1             0            0  \n",
       "4               1             0            0  "
      ],
      "text/html": "<div>\n<style scoped>\n    .dataframe tbody tr th:only-of-type {\n        vertical-align: middle;\n    }\n\n    .dataframe tbody tr th {\n        vertical-align: top;\n    }\n\n    .dataframe thead th {\n        text-align: right;\n    }\n</style>\n<table border=\"1\" class=\"dataframe\">\n  <thead>\n    <tr style=\"text-align: right;\">\n      <th></th>\n      <th>person</th>\n      <th>value</th>\n      <th>time</th>\n      <th>offer completed</th>\n      <th>offer received</th>\n      <th>offer viewed</th>\n      <th>transaction</th>\n    </tr>\n  </thead>\n  <tbody>\n    <tr>\n      <th>0</th>\n      <td>78afa995795e4d85b5d9ceeca43f5fef</td>\n      <td>{'offer id': '9b98b8c7a33c4b65b9aebfe6a799e6d9'}</td>\n      <td>0</td>\n      <td>0</td>\n      <td>1</td>\n      <td>0</td>\n      <td>0</td>\n    </tr>\n    <tr>\n      <th>1</th>\n      <td>a03223e636434f42ac4c3df47e8bac43</td>\n      <td>{'offer id': '0b1e1539f2cc45b7b9fa7c272da2e1d7'}</td>\n      <td>0</td>\n      <td>0</td>\n      <td>1</td>\n      <td>0</td>\n      <td>0</td>\n    </tr>\n    <tr>\n      <th>2</th>\n      <td>e2127556f4f64592b11af22de27a7932</td>\n      <td>{'offer id': '2906b810c7d4411798c6938adc9daaa5'}</td>\n      <td>0</td>\n      <td>0</td>\n      <td>1</td>\n      <td>0</td>\n      <td>0</td>\n    </tr>\n    <tr>\n      <th>3</th>\n      <td>8ec6ce2a7e7949b1bf142def7d0e0586</td>\n      <td>{'offer id': 'fafdcd668e3743c1bb461111dcafc2a4'}</td>\n      <td>0</td>\n      <td>0</td>\n      <td>1</td>\n      <td>0</td>\n      <td>0</td>\n    </tr>\n    <tr>\n      <th>4</th>\n      <td>68617ca6246f4fbc85e91a2a49552598</td>\n      <td>{'offer id': '4d5c57ea9a6940dd891ad53e9dbe8da0'}</td>\n      <td>0</td>\n      <td>0</td>\n      <td>1</td>\n      <td>0</td>\n      <td>0</td>\n    </tr>\n  </tbody>\n</table>\n</div>"
     },
     "metadata": {},
     "execution_count": 26
    }
   ],
   "source": [
    "# create dummies variable from event column\n",
    "transcript = pd.get_dummies(transcript , columns=['event'] , prefix='' ,prefix_sep='')\n",
    "transcript.head()"
   ]
  },
  {
   "cell_type": "code",
   "execution_count": 27,
   "metadata": {},
   "outputs": [
    {
     "output_type": "execute_result",
     "data": {
      "text/plain": [
       "                             person  \\\n",
       "0  78afa995795e4d85b5d9ceeca43f5fef   \n",
       "1  a03223e636434f42ac4c3df47e8bac43   \n",
       "2  e2127556f4f64592b11af22de27a7932   \n",
       "3  8ec6ce2a7e7949b1bf142def7d0e0586   \n",
       "4  68617ca6246f4fbc85e91a2a49552598   \n",
       "\n",
       "                                              value  time  offer completed  \\\n",
       "0  {'offer id': '9b98b8c7a33c4b65b9aebfe6a799e6d9'}     0                0   \n",
       "1  {'offer id': '0b1e1539f2cc45b7b9fa7c272da2e1d7'}     0                0   \n",
       "2  {'offer id': '2906b810c7d4411798c6938adc9daaa5'}     0                0   \n",
       "3  {'offer id': 'fafdcd668e3743c1bb461111dcafc2a4'}     0                0   \n",
       "4  {'offer id': '4d5c57ea9a6940dd891ad53e9dbe8da0'}     0                0   \n",
       "\n",
       "   offer received  offer viewed  transaction  \\\n",
       "0               1             0            0   \n",
       "1               1             0            0   \n",
       "2               1             0            0   \n",
       "3               1             0            0   \n",
       "4               1             0            0   \n",
       "\n",
       "                           offer id  amount offer_id  reward  \n",
       "0  9b98b8c7a33c4b65b9aebfe6a799e6d9     NaN      NaN     NaN  \n",
       "1  0b1e1539f2cc45b7b9fa7c272da2e1d7     NaN      NaN     NaN  \n",
       "2  2906b810c7d4411798c6938adc9daaa5     NaN      NaN     NaN  \n",
       "3  fafdcd668e3743c1bb461111dcafc2a4     NaN      NaN     NaN  \n",
       "4  4d5c57ea9a6940dd891ad53e9dbe8da0     NaN      NaN     NaN  "
      ],
      "text/html": "<div>\n<style scoped>\n    .dataframe tbody tr th:only-of-type {\n        vertical-align: middle;\n    }\n\n    .dataframe tbody tr th {\n        vertical-align: top;\n    }\n\n    .dataframe thead th {\n        text-align: right;\n    }\n</style>\n<table border=\"1\" class=\"dataframe\">\n  <thead>\n    <tr style=\"text-align: right;\">\n      <th></th>\n      <th>person</th>\n      <th>value</th>\n      <th>time</th>\n      <th>offer completed</th>\n      <th>offer received</th>\n      <th>offer viewed</th>\n      <th>transaction</th>\n      <th>offer id</th>\n      <th>amount</th>\n      <th>offer_id</th>\n      <th>reward</th>\n    </tr>\n  </thead>\n  <tbody>\n    <tr>\n      <th>0</th>\n      <td>78afa995795e4d85b5d9ceeca43f5fef</td>\n      <td>{'offer id': '9b98b8c7a33c4b65b9aebfe6a799e6d9'}</td>\n      <td>0</td>\n      <td>0</td>\n      <td>1</td>\n      <td>0</td>\n      <td>0</td>\n      <td>9b98b8c7a33c4b65b9aebfe6a799e6d9</td>\n      <td>NaN</td>\n      <td>NaN</td>\n      <td>NaN</td>\n    </tr>\n    <tr>\n      <th>1</th>\n      <td>a03223e636434f42ac4c3df47e8bac43</td>\n      <td>{'offer id': '0b1e1539f2cc45b7b9fa7c272da2e1d7'}</td>\n      <td>0</td>\n      <td>0</td>\n      <td>1</td>\n      <td>0</td>\n      <td>0</td>\n      <td>0b1e1539f2cc45b7b9fa7c272da2e1d7</td>\n      <td>NaN</td>\n      <td>NaN</td>\n      <td>NaN</td>\n    </tr>\n    <tr>\n      <th>2</th>\n      <td>e2127556f4f64592b11af22de27a7932</td>\n      <td>{'offer id': '2906b810c7d4411798c6938adc9daaa5'}</td>\n      <td>0</td>\n      <td>0</td>\n      <td>1</td>\n      <td>0</td>\n      <td>0</td>\n      <td>2906b810c7d4411798c6938adc9daaa5</td>\n      <td>NaN</td>\n      <td>NaN</td>\n      <td>NaN</td>\n    </tr>\n    <tr>\n      <th>3</th>\n      <td>8ec6ce2a7e7949b1bf142def7d0e0586</td>\n      <td>{'offer id': 'fafdcd668e3743c1bb461111dcafc2a4'}</td>\n      <td>0</td>\n      <td>0</td>\n      <td>1</td>\n      <td>0</td>\n      <td>0</td>\n      <td>fafdcd668e3743c1bb461111dcafc2a4</td>\n      <td>NaN</td>\n      <td>NaN</td>\n      <td>NaN</td>\n    </tr>\n    <tr>\n      <th>4</th>\n      <td>68617ca6246f4fbc85e91a2a49552598</td>\n      <td>{'offer id': '4d5c57ea9a6940dd891ad53e9dbe8da0'}</td>\n      <td>0</td>\n      <td>0</td>\n      <td>1</td>\n      <td>0</td>\n      <td>0</td>\n      <td>4d5c57ea9a6940dd891ad53e9dbe8da0</td>\n      <td>NaN</td>\n      <td>NaN</td>\n      <td>NaN</td>\n    </tr>\n  </tbody>\n</table>\n</div>"
     },
     "metadata": {},
     "execution_count": 27
    }
   ],
   "source": [
    "# extract values from value column \n",
    "transcript = pd.concat([transcript, transcript['value'].apply(pd.Series)], axis=1)\n",
    "transcript.head()"
   ]
  },
  {
   "cell_type": "code",
   "execution_count": 28,
   "metadata": {},
   "outputs": [
    {
     "output_type": "execute_result",
     "data": {
      "text/plain": [
       "                          member_id  transcript_time  offer_completed  \\\n",
       "0  78afa995795e4d85b5d9ceeca43f5fef                0                0   \n",
       "1  a03223e636434f42ac4c3df47e8bac43                0                0   \n",
       "2  e2127556f4f64592b11af22de27a7932                0                0   \n",
       "3  8ec6ce2a7e7949b1bf142def7d0e0586                0                0   \n",
       "4  68617ca6246f4fbc85e91a2a49552598                0                0   \n",
       "\n",
       "   offer_received  offer_viewed  offer_transaction  transcript_amount  \\\n",
       "0               1             0                  0                NaN   \n",
       "1               1             0                  0                NaN   \n",
       "2               1             0                  0                NaN   \n",
       "3               1             0                  0                NaN   \n",
       "4               1             0                  0                NaN   \n",
       "\n",
       "   transcript_reward                          offer_id  \n",
       "0                NaN  9b98b8c7a33c4b65b9aebfe6a799e6d9  \n",
       "1                NaN  0b1e1539f2cc45b7b9fa7c272da2e1d7  \n",
       "2                NaN  2906b810c7d4411798c6938adc9daaa5  \n",
       "3                NaN  fafdcd668e3743c1bb461111dcafc2a4  \n",
       "4                NaN  4d5c57ea9a6940dd891ad53e9dbe8da0  "
      ],
      "text/html": "<div>\n<style scoped>\n    .dataframe tbody tr th:only-of-type {\n        vertical-align: middle;\n    }\n\n    .dataframe tbody tr th {\n        vertical-align: top;\n    }\n\n    .dataframe thead th {\n        text-align: right;\n    }\n</style>\n<table border=\"1\" class=\"dataframe\">\n  <thead>\n    <tr style=\"text-align: right;\">\n      <th></th>\n      <th>member_id</th>\n      <th>transcript_time</th>\n      <th>offer_completed</th>\n      <th>offer_received</th>\n      <th>offer_viewed</th>\n      <th>offer_transaction</th>\n      <th>transcript_amount</th>\n      <th>transcript_reward</th>\n      <th>offer_id</th>\n    </tr>\n  </thead>\n  <tbody>\n    <tr>\n      <th>0</th>\n      <td>78afa995795e4d85b5d9ceeca43f5fef</td>\n      <td>0</td>\n      <td>0</td>\n      <td>1</td>\n      <td>0</td>\n      <td>0</td>\n      <td>NaN</td>\n      <td>NaN</td>\n      <td>9b98b8c7a33c4b65b9aebfe6a799e6d9</td>\n    </tr>\n    <tr>\n      <th>1</th>\n      <td>a03223e636434f42ac4c3df47e8bac43</td>\n      <td>0</td>\n      <td>0</td>\n      <td>1</td>\n      <td>0</td>\n      <td>0</td>\n      <td>NaN</td>\n      <td>NaN</td>\n      <td>0b1e1539f2cc45b7b9fa7c272da2e1d7</td>\n    </tr>\n    <tr>\n      <th>2</th>\n      <td>e2127556f4f64592b11af22de27a7932</td>\n      <td>0</td>\n      <td>0</td>\n      <td>1</td>\n      <td>0</td>\n      <td>0</td>\n      <td>NaN</td>\n      <td>NaN</td>\n      <td>2906b810c7d4411798c6938adc9daaa5</td>\n    </tr>\n    <tr>\n      <th>3</th>\n      <td>8ec6ce2a7e7949b1bf142def7d0e0586</td>\n      <td>0</td>\n      <td>0</td>\n      <td>1</td>\n      <td>0</td>\n      <td>0</td>\n      <td>NaN</td>\n      <td>NaN</td>\n      <td>fafdcd668e3743c1bb461111dcafc2a4</td>\n    </tr>\n    <tr>\n      <th>4</th>\n      <td>68617ca6246f4fbc85e91a2a49552598</td>\n      <td>0</td>\n      <td>0</td>\n      <td>1</td>\n      <td>0</td>\n      <td>0</td>\n      <td>NaN</td>\n      <td>NaN</td>\n      <td>4d5c57ea9a6940dd891ad53e9dbe8da0</td>\n    </tr>\n  </tbody>\n</table>\n</div>"
     },
     "metadata": {},
     "execution_count": 28
    }
   ],
   "source": [
    "# clean duplicated columns\n",
    "transcript['offer_id_new']=np.where(transcript['offer id'].isnull() & transcript['offer_id'].notnull(),transcript['offer_id'],transcript['offer id'])\n",
    "\n",
    "# drop unnecessary offer_id columns\n",
    "transcript.drop(['offer id','offer_id'],axis=1,inplace=True)\n",
    "\n",
    "# rename columns\n",
    "transcript.rename(columns={'person': 'member_id','time':'transcript_time', 'offer_id_new':'offer_id', 'amount':'transcript_amount', 'reward':'transcript_reward', 'offer completed':'offer_completed', 'offer received':'offer_received', 'offer viewed': 'offer_viewed', 'transaction': 'offer_transaction'},inplace=True)\n",
    "\n",
    "# drop value column\n",
    "transcript.drop(['value'], axis=1, inplace=True)\n",
    "\n",
    "transcript.head()"
   ]
  },
  {
   "cell_type": "code",
   "execution_count": 29,
   "metadata": {},
   "outputs": [
    {
     "output_type": "execute_result",
     "data": {
      "text/plain": [
       "fafdcd668e3743c1bb461111dcafc2a4    20241\n",
       "2298d6c36e964ae4a3e7e9706d1fb8c2    20139\n",
       "f19421c1d4aa40978ebb69ca19b0e20d    19131\n",
       "4d5c57ea9a6940dd891ad53e9dbe8da0    18222\n",
       "ae264e3637204a6fb9bb56bc8210ddfd    18062\n",
       "9b98b8c7a33c4b65b9aebfe6a799e6d9    16202\n",
       "2906b810c7d4411798c6938adc9daaa5    15767\n",
       "5a8bc65990b245e5a138643cd4eb9837    14305\n",
       "0b1e1539f2cc45b7b9fa7c272da2e1d7    13751\n",
       "3f207df678b143eea3cee63160fa8bed    11761\n",
       "Name: offer_id, dtype: int64"
      ]
     },
     "metadata": {},
     "execution_count": 29
    }
   ],
   "source": [
    "# offer groups\n",
    "transcript.offer_id.value_counts()"
   ]
  },
  {
   "cell_type": "markdown",
   "metadata": {},
   "source": [
    "### Merging datasets"
   ]
  },
  {
   "cell_type": "code",
   "execution_count": 30,
   "metadata": {},
   "outputs": [
    {
     "output_type": "execute_result",
     "data": {
      "text/plain": [
       "   profile_gender  profile_age                         member_id  \\\n",
       "0               2         55.0  0610b486422d4921ae7d2bf64640c50b   \n",
       "1               2         55.0  0610b486422d4921ae7d2bf64640c50b   \n",
       "2               2         55.0  0610b486422d4921ae7d2bf64640c50b   \n",
       "\n",
       "   profile_income  profile_membership_days  transcript_time  offer_completed  \\\n",
       "0        112000.0                     1363               18                0   \n",
       "1        112000.0                     1363              144                0   \n",
       "2        112000.0                     1363              408                0   \n",
       "\n",
       "   offer_received  offer_viewed  offer_transaction  ...  meta_reward  \\\n",
       "0               0             0                  1  ...          NaN   \n",
       "1               0             0                  1  ...          NaN   \n",
       "2               1             0                  0  ...          5.0   \n",
       "\n",
       "   meta_required_spending meta_max_hours  meta_email  meta_mobile  \\\n",
       "0                     NaN            NaN         NaN          NaN   \n",
       "1                     NaN            NaN         NaN          NaN   \n",
       "2                     5.0          168.0         1.0          1.0   \n",
       "\n",
       "   meta_social  meta_web  meta_bogo  meta_discount  meta_informational  \n",
       "0          NaN       NaN        NaN            NaN                 NaN  \n",
       "1          NaN       NaN        NaN            NaN                 NaN  \n",
       "2          0.0       1.0        1.0            0.0                 0.0  \n",
       "\n",
       "[3 rows x 23 columns]"
      ],
      "text/html": "<div>\n<style scoped>\n    .dataframe tbody tr th:only-of-type {\n        vertical-align: middle;\n    }\n\n    .dataframe tbody tr th {\n        vertical-align: top;\n    }\n\n    .dataframe thead th {\n        text-align: right;\n    }\n</style>\n<table border=\"1\" class=\"dataframe\">\n  <thead>\n    <tr style=\"text-align: right;\">\n      <th></th>\n      <th>profile_gender</th>\n      <th>profile_age</th>\n      <th>member_id</th>\n      <th>profile_income</th>\n      <th>profile_membership_days</th>\n      <th>transcript_time</th>\n      <th>offer_completed</th>\n      <th>offer_received</th>\n      <th>offer_viewed</th>\n      <th>offer_transaction</th>\n      <th>...</th>\n      <th>meta_reward</th>\n      <th>meta_required_spending</th>\n      <th>meta_max_hours</th>\n      <th>meta_email</th>\n      <th>meta_mobile</th>\n      <th>meta_social</th>\n      <th>meta_web</th>\n      <th>meta_bogo</th>\n      <th>meta_discount</th>\n      <th>meta_informational</th>\n    </tr>\n  </thead>\n  <tbody>\n    <tr>\n      <th>0</th>\n      <td>2</td>\n      <td>55.0</td>\n      <td>0610b486422d4921ae7d2bf64640c50b</td>\n      <td>112000.0</td>\n      <td>1363</td>\n      <td>18</td>\n      <td>0</td>\n      <td>0</td>\n      <td>0</td>\n      <td>1</td>\n      <td>...</td>\n      <td>NaN</td>\n      <td>NaN</td>\n      <td>NaN</td>\n      <td>NaN</td>\n      <td>NaN</td>\n      <td>NaN</td>\n      <td>NaN</td>\n      <td>NaN</td>\n      <td>NaN</td>\n      <td>NaN</td>\n    </tr>\n    <tr>\n      <th>1</th>\n      <td>2</td>\n      <td>55.0</td>\n      <td>0610b486422d4921ae7d2bf64640c50b</td>\n      <td>112000.0</td>\n      <td>1363</td>\n      <td>144</td>\n      <td>0</td>\n      <td>0</td>\n      <td>0</td>\n      <td>1</td>\n      <td>...</td>\n      <td>NaN</td>\n      <td>NaN</td>\n      <td>NaN</td>\n      <td>NaN</td>\n      <td>NaN</td>\n      <td>NaN</td>\n      <td>NaN</td>\n      <td>NaN</td>\n      <td>NaN</td>\n      <td>NaN</td>\n    </tr>\n    <tr>\n      <th>2</th>\n      <td>2</td>\n      <td>55.0</td>\n      <td>0610b486422d4921ae7d2bf64640c50b</td>\n      <td>112000.0</td>\n      <td>1363</td>\n      <td>408</td>\n      <td>0</td>\n      <td>1</td>\n      <td>0</td>\n      <td>0</td>\n      <td>...</td>\n      <td>5.0</td>\n      <td>5.0</td>\n      <td>168.0</td>\n      <td>1.0</td>\n      <td>1.0</td>\n      <td>0.0</td>\n      <td>1.0</td>\n      <td>1.0</td>\n      <td>0.0</td>\n      <td>0.0</td>\n    </tr>\n  </tbody>\n</table>\n<p>3 rows × 23 columns</p>\n</div>"
     },
     "metadata": {},
     "execution_count": 30
    }
   ],
   "source": [
    "df_member_id = pd.merge(profile, transcript, on='member_id')\n",
    "df = pd.merge(df_member_id, portfolio, how=\"left\", on='offer_id')\n",
    "df.head(3)"
   ]
  },
  {
   "cell_type": "code",
   "execution_count": 31,
   "metadata": {},
   "outputs": [
    {
     "output_type": "execute_result",
     "data": {
      "text/plain": [
       "   profile_gender  profile_age                         member_id  \\\n",
       "0               2         55.0  0610b486422d4921ae7d2bf64640c50b   \n",
       "1               2         55.0  0610b486422d4921ae7d2bf64640c50b   \n",
       "2               2         55.0  0610b486422d4921ae7d2bf64640c50b   \n",
       "3               2         55.0  0610b486422d4921ae7d2bf64640c50b   \n",
       "4               2         55.0  0610b486422d4921ae7d2bf64640c50b   \n",
       "\n",
       "   profile_income  profile_membership_days  transcript_time  offer_completed  \\\n",
       "0        112000.0                     1363               18                0   \n",
       "1        112000.0                     1363              144                0   \n",
       "2        112000.0                     1363              408                0   \n",
       "3        112000.0                     1363              504                0   \n",
       "4        112000.0                     1363              528                0   \n",
       "\n",
       "   offer_received  offer_viewed  offer_transaction  ...  meta_reward  \\\n",
       "0               0             0                  1  ...          NaN   \n",
       "1               0             0                  1  ...          NaN   \n",
       "2               1             0                  0  ...          5.0   \n",
       "3               1             0                  0  ...          0.0   \n",
       "4               0             0                  1  ...          NaN   \n",
       "\n",
       "   meta_required_spending  meta_max_hours  meta_email  meta_mobile  \\\n",
       "0                     NaN             NaN         NaN          NaN   \n",
       "1                     NaN             NaN         NaN          NaN   \n",
       "2                     5.0           168.0         1.0          1.0   \n",
       "3                     0.0            96.0         1.0          1.0   \n",
       "4                     NaN             NaN         NaN          NaN   \n",
       "\n",
       "   meta_social  meta_web  meta_bogo  meta_discount  meta_informational  \n",
       "0          NaN       NaN        NaN            NaN                 NaN  \n",
       "1          NaN       NaN        NaN            NaN                 NaN  \n",
       "2          0.0       1.0        1.0            0.0                 0.0  \n",
       "3          0.0       1.0        0.0            0.0                 1.0  \n",
       "4          NaN       NaN        NaN            NaN                 NaN  \n",
       "\n",
       "[5 rows x 23 columns]"
      ],
      "text/html": "<div>\n<style scoped>\n    .dataframe tbody tr th:only-of-type {\n        vertical-align: middle;\n    }\n\n    .dataframe tbody tr th {\n        vertical-align: top;\n    }\n\n    .dataframe thead th {\n        text-align: right;\n    }\n</style>\n<table border=\"1\" class=\"dataframe\">\n  <thead>\n    <tr style=\"text-align: right;\">\n      <th></th>\n      <th>profile_gender</th>\n      <th>profile_age</th>\n      <th>member_id</th>\n      <th>profile_income</th>\n      <th>profile_membership_days</th>\n      <th>transcript_time</th>\n      <th>offer_completed</th>\n      <th>offer_received</th>\n      <th>offer_viewed</th>\n      <th>offer_transaction</th>\n      <th>...</th>\n      <th>meta_reward</th>\n      <th>meta_required_spending</th>\n      <th>meta_max_hours</th>\n      <th>meta_email</th>\n      <th>meta_mobile</th>\n      <th>meta_social</th>\n      <th>meta_web</th>\n      <th>meta_bogo</th>\n      <th>meta_discount</th>\n      <th>meta_informational</th>\n    </tr>\n  </thead>\n  <tbody>\n    <tr>\n      <th>0</th>\n      <td>2</td>\n      <td>55.0</td>\n      <td>0610b486422d4921ae7d2bf64640c50b</td>\n      <td>112000.0</td>\n      <td>1363</td>\n      <td>18</td>\n      <td>0</td>\n      <td>0</td>\n      <td>0</td>\n      <td>1</td>\n      <td>...</td>\n      <td>NaN</td>\n      <td>NaN</td>\n      <td>NaN</td>\n      <td>NaN</td>\n      <td>NaN</td>\n      <td>NaN</td>\n      <td>NaN</td>\n      <td>NaN</td>\n      <td>NaN</td>\n      <td>NaN</td>\n    </tr>\n    <tr>\n      <th>1</th>\n      <td>2</td>\n      <td>55.0</td>\n      <td>0610b486422d4921ae7d2bf64640c50b</td>\n      <td>112000.0</td>\n      <td>1363</td>\n      <td>144</td>\n      <td>0</td>\n      <td>0</td>\n      <td>0</td>\n      <td>1</td>\n      <td>...</td>\n      <td>NaN</td>\n      <td>NaN</td>\n      <td>NaN</td>\n      <td>NaN</td>\n      <td>NaN</td>\n      <td>NaN</td>\n      <td>NaN</td>\n      <td>NaN</td>\n      <td>NaN</td>\n      <td>NaN</td>\n    </tr>\n    <tr>\n      <th>2</th>\n      <td>2</td>\n      <td>55.0</td>\n      <td>0610b486422d4921ae7d2bf64640c50b</td>\n      <td>112000.0</td>\n      <td>1363</td>\n      <td>408</td>\n      <td>0</td>\n      <td>1</td>\n      <td>0</td>\n      <td>0</td>\n      <td>...</td>\n      <td>5.0</td>\n      <td>5.0</td>\n      <td>168.0</td>\n      <td>1.0</td>\n      <td>1.0</td>\n      <td>0.0</td>\n      <td>1.0</td>\n      <td>1.0</td>\n      <td>0.0</td>\n      <td>0.0</td>\n    </tr>\n    <tr>\n      <th>3</th>\n      <td>2</td>\n      <td>55.0</td>\n      <td>0610b486422d4921ae7d2bf64640c50b</td>\n      <td>112000.0</td>\n      <td>1363</td>\n      <td>504</td>\n      <td>0</td>\n      <td>1</td>\n      <td>0</td>\n      <td>0</td>\n      <td>...</td>\n      <td>0.0</td>\n      <td>0.0</td>\n      <td>96.0</td>\n      <td>1.0</td>\n      <td>1.0</td>\n      <td>0.0</td>\n      <td>1.0</td>\n      <td>0.0</td>\n      <td>0.0</td>\n      <td>1.0</td>\n    </tr>\n    <tr>\n      <th>4</th>\n      <td>2</td>\n      <td>55.0</td>\n      <td>0610b486422d4921ae7d2bf64640c50b</td>\n      <td>112000.0</td>\n      <td>1363</td>\n      <td>528</td>\n      <td>0</td>\n      <td>0</td>\n      <td>0</td>\n      <td>1</td>\n      <td>...</td>\n      <td>NaN</td>\n      <td>NaN</td>\n      <td>NaN</td>\n      <td>NaN</td>\n      <td>NaN</td>\n      <td>NaN</td>\n      <td>NaN</td>\n      <td>NaN</td>\n      <td>NaN</td>\n      <td>NaN</td>\n    </tr>\n  </tbody>\n</table>\n<p>5 rows × 23 columns</p>\n</div>"
     },
     "metadata": {},
     "execution_count": 31
    }
   ],
   "source": [
    "# change offer_id to integers\n",
    "df['offer_id'] = df['offer_id'].map({'fafdcd668e3743c1bb461111dcafc2a4':1, '2298d6c36e964ae4a3e7e9706d1fb8c2':2, 'f19421c1d4aa40978ebb69ca19b0e20d':3, '4d5c57ea9a6940dd891ad53e9dbe8da0':4, 'ae264e3637204a6fb9bb56bc8210ddfd':5, '9b98b8c7a33c4b65b9aebfe6a799e6d9':6, '2906b810c7d4411798c6938adc9daaa5':7, '5a8bc65990b245e5a138643cd4eb9837':8, '0b1e1539f2cc45b7b9fa7c272da2e1d7':9, '3f207df678b143eea3cee63160fa8bed':10})\n",
    "df.head()"
   ]
  },
  {
   "cell_type": "code",
   "execution_count": 32,
   "metadata": {},
   "outputs": [
    {
     "output_type": "execute_result",
     "data": {
      "text/plain": [
       "   profile_gender  profile_age                         member_id  \\\n",
       "0               2         55.0  0610b486422d4921ae7d2bf64640c50b   \n",
       "1               2         55.0  0610b486422d4921ae7d2bf64640c50b   \n",
       "2               2         55.0  0610b486422d4921ae7d2bf64640c50b   \n",
       "3               2         55.0  0610b486422d4921ae7d2bf64640c50b   \n",
       "4               2         55.0  0610b486422d4921ae7d2bf64640c50b   \n",
       "\n",
       "   profile_income  profile_membership_days  transcript_time  offer_completed  \\\n",
       "0        112000.0                     1363               18                0   \n",
       "1        112000.0                     1363              144                0   \n",
       "2        112000.0                     1363              408                0   \n",
       "3        112000.0                     1363              504                0   \n",
       "4        112000.0                     1363              528                0   \n",
       "\n",
       "   offer_received  offer_viewed  offer_transaction  ...  meta_reward  \\\n",
       "0               0             0                  1  ...          0.0   \n",
       "1               0             0                  1  ...          0.0   \n",
       "2               1             0                  0  ...          5.0   \n",
       "3               1             0                  0  ...          0.0   \n",
       "4               0             0                  1  ...          0.0   \n",
       "\n",
       "   meta_required_spending  meta_max_hours  meta_email  meta_mobile  \\\n",
       "0                     0.0             0.0         0.0          0.0   \n",
       "1                     0.0             0.0         0.0          0.0   \n",
       "2                     5.0           168.0         1.0          1.0   \n",
       "3                     0.0            96.0         1.0          1.0   \n",
       "4                     0.0             0.0         0.0          0.0   \n",
       "\n",
       "   meta_social  meta_web  meta_bogo  meta_discount  meta_informational  \n",
       "0          0.0       0.0        0.0            0.0                 0.0  \n",
       "1          0.0       0.0        0.0            0.0                 0.0  \n",
       "2          0.0       1.0        1.0            0.0                 0.0  \n",
       "3          0.0       1.0        0.0            0.0                 1.0  \n",
       "4          0.0       0.0        0.0            0.0                 0.0  \n",
       "\n",
       "[5 rows x 23 columns]"
      ],
      "text/html": "<div>\n<style scoped>\n    .dataframe tbody tr th:only-of-type {\n        vertical-align: middle;\n    }\n\n    .dataframe tbody tr th {\n        vertical-align: top;\n    }\n\n    .dataframe thead th {\n        text-align: right;\n    }\n</style>\n<table border=\"1\" class=\"dataframe\">\n  <thead>\n    <tr style=\"text-align: right;\">\n      <th></th>\n      <th>profile_gender</th>\n      <th>profile_age</th>\n      <th>member_id</th>\n      <th>profile_income</th>\n      <th>profile_membership_days</th>\n      <th>transcript_time</th>\n      <th>offer_completed</th>\n      <th>offer_received</th>\n      <th>offer_viewed</th>\n      <th>offer_transaction</th>\n      <th>...</th>\n      <th>meta_reward</th>\n      <th>meta_required_spending</th>\n      <th>meta_max_hours</th>\n      <th>meta_email</th>\n      <th>meta_mobile</th>\n      <th>meta_social</th>\n      <th>meta_web</th>\n      <th>meta_bogo</th>\n      <th>meta_discount</th>\n      <th>meta_informational</th>\n    </tr>\n  </thead>\n  <tbody>\n    <tr>\n      <th>0</th>\n      <td>2</td>\n      <td>55.0</td>\n      <td>0610b486422d4921ae7d2bf64640c50b</td>\n      <td>112000.0</td>\n      <td>1363</td>\n      <td>18</td>\n      <td>0</td>\n      <td>0</td>\n      <td>0</td>\n      <td>1</td>\n      <td>...</td>\n      <td>0.0</td>\n      <td>0.0</td>\n      <td>0.0</td>\n      <td>0.0</td>\n      <td>0.0</td>\n      <td>0.0</td>\n      <td>0.0</td>\n      <td>0.0</td>\n      <td>0.0</td>\n      <td>0.0</td>\n    </tr>\n    <tr>\n      <th>1</th>\n      <td>2</td>\n      <td>55.0</td>\n      <td>0610b486422d4921ae7d2bf64640c50b</td>\n      <td>112000.0</td>\n      <td>1363</td>\n      <td>144</td>\n      <td>0</td>\n      <td>0</td>\n      <td>0</td>\n      <td>1</td>\n      <td>...</td>\n      <td>0.0</td>\n      <td>0.0</td>\n      <td>0.0</td>\n      <td>0.0</td>\n      <td>0.0</td>\n      <td>0.0</td>\n      <td>0.0</td>\n      <td>0.0</td>\n      <td>0.0</td>\n      <td>0.0</td>\n    </tr>\n    <tr>\n      <th>2</th>\n      <td>2</td>\n      <td>55.0</td>\n      <td>0610b486422d4921ae7d2bf64640c50b</td>\n      <td>112000.0</td>\n      <td>1363</td>\n      <td>408</td>\n      <td>0</td>\n      <td>1</td>\n      <td>0</td>\n      <td>0</td>\n      <td>...</td>\n      <td>5.0</td>\n      <td>5.0</td>\n      <td>168.0</td>\n      <td>1.0</td>\n      <td>1.0</td>\n      <td>0.0</td>\n      <td>1.0</td>\n      <td>1.0</td>\n      <td>0.0</td>\n      <td>0.0</td>\n    </tr>\n    <tr>\n      <th>3</th>\n      <td>2</td>\n      <td>55.0</td>\n      <td>0610b486422d4921ae7d2bf64640c50b</td>\n      <td>112000.0</td>\n      <td>1363</td>\n      <td>504</td>\n      <td>0</td>\n      <td>1</td>\n      <td>0</td>\n      <td>0</td>\n      <td>...</td>\n      <td>0.0</td>\n      <td>0.0</td>\n      <td>96.0</td>\n      <td>1.0</td>\n      <td>1.0</td>\n      <td>0.0</td>\n      <td>1.0</td>\n      <td>0.0</td>\n      <td>0.0</td>\n      <td>1.0</td>\n    </tr>\n    <tr>\n      <th>4</th>\n      <td>2</td>\n      <td>55.0</td>\n      <td>0610b486422d4921ae7d2bf64640c50b</td>\n      <td>112000.0</td>\n      <td>1363</td>\n      <td>528</td>\n      <td>0</td>\n      <td>0</td>\n      <td>0</td>\n      <td>1</td>\n      <td>...</td>\n      <td>0.0</td>\n      <td>0.0</td>\n      <td>0.0</td>\n      <td>0.0</td>\n      <td>0.0</td>\n      <td>0.0</td>\n      <td>0.0</td>\n      <td>0.0</td>\n      <td>0.0</td>\n      <td>0.0</td>\n    </tr>\n  </tbody>\n</table>\n<p>5 rows × 23 columns</p>\n</div>"
     },
     "metadata": {},
     "execution_count": 32
    }
   ],
   "source": [
    "# fill nan with 0\n",
    "df = df.fillna(0)\n",
    "df.head()"
   ]
  },
  {
   "cell_type": "code",
   "execution_count": 33,
   "metadata": {},
   "outputs": [
    {
     "output_type": "execute_result",
     "data": {
      "text/plain": [
       "   profile_gender  profile_age                         member_id  \\\n",
       "0               2         55.0  0610b486422d4921ae7d2bf64640c50b   \n",
       "1               2         55.0  0610b486422d4921ae7d2bf64640c50b   \n",
       "2               2         55.0  0610b486422d4921ae7d2bf64640c50b   \n",
       "3               2         55.0  0610b486422d4921ae7d2bf64640c50b   \n",
       "4               2         55.0  0610b486422d4921ae7d2bf64640c50b   \n",
       "\n",
       "   profile_income  profile_membership_days  transcript_time  offer_completed  \\\n",
       "0        112000.0                     1363               18                0   \n",
       "1        112000.0                     1363              144                0   \n",
       "2        112000.0                     1363              408                0   \n",
       "3        112000.0                     1363              504                0   \n",
       "4        112000.0                     1363              528                0   \n",
       "\n",
       "   offer_received  offer_viewed  offer_transaction  transcript_amount  \\\n",
       "0               0             0                  1              21.51   \n",
       "1               0             0                  1              32.28   \n",
       "2               1             0                  0               0.00   \n",
       "3               1             0                  0               0.00   \n",
       "4               0             0                  1              23.22   \n",
       "\n",
       "   transcript_reward  offer_id  meta_reward  meta_required_spending  \\\n",
       "0                0.0       0.0          0.0                     0.0   \n",
       "1                0.0       0.0          0.0                     0.0   \n",
       "2                0.0       6.0          5.0                     5.0   \n",
       "3                0.0      10.0          0.0                     0.0   \n",
       "4                0.0       0.0          0.0                     0.0   \n",
       "\n",
       "   meta_max_hours  \n",
       "0             0.0  \n",
       "1             0.0  \n",
       "2           168.0  \n",
       "3            96.0  \n",
       "4             0.0  "
      ],
      "text/html": "<div>\n<style scoped>\n    .dataframe tbody tr th:only-of-type {\n        vertical-align: middle;\n    }\n\n    .dataframe tbody tr th {\n        vertical-align: top;\n    }\n\n    .dataframe thead th {\n        text-align: right;\n    }\n</style>\n<table border=\"1\" class=\"dataframe\">\n  <thead>\n    <tr style=\"text-align: right;\">\n      <th></th>\n      <th>profile_gender</th>\n      <th>profile_age</th>\n      <th>member_id</th>\n      <th>profile_income</th>\n      <th>profile_membership_days</th>\n      <th>transcript_time</th>\n      <th>offer_completed</th>\n      <th>offer_received</th>\n      <th>offer_viewed</th>\n      <th>offer_transaction</th>\n      <th>transcript_amount</th>\n      <th>transcript_reward</th>\n      <th>offer_id</th>\n      <th>meta_reward</th>\n      <th>meta_required_spending</th>\n      <th>meta_max_hours</th>\n    </tr>\n  </thead>\n  <tbody>\n    <tr>\n      <th>0</th>\n      <td>2</td>\n      <td>55.0</td>\n      <td>0610b486422d4921ae7d2bf64640c50b</td>\n      <td>112000.0</td>\n      <td>1363</td>\n      <td>18</td>\n      <td>0</td>\n      <td>0</td>\n      <td>0</td>\n      <td>1</td>\n      <td>21.51</td>\n      <td>0.0</td>\n      <td>0.0</td>\n      <td>0.0</td>\n      <td>0.0</td>\n      <td>0.0</td>\n    </tr>\n    <tr>\n      <th>1</th>\n      <td>2</td>\n      <td>55.0</td>\n      <td>0610b486422d4921ae7d2bf64640c50b</td>\n      <td>112000.0</td>\n      <td>1363</td>\n      <td>144</td>\n      <td>0</td>\n      <td>0</td>\n      <td>0</td>\n      <td>1</td>\n      <td>32.28</td>\n      <td>0.0</td>\n      <td>0.0</td>\n      <td>0.0</td>\n      <td>0.0</td>\n      <td>0.0</td>\n    </tr>\n    <tr>\n      <th>2</th>\n      <td>2</td>\n      <td>55.0</td>\n      <td>0610b486422d4921ae7d2bf64640c50b</td>\n      <td>112000.0</td>\n      <td>1363</td>\n      <td>408</td>\n      <td>0</td>\n      <td>1</td>\n      <td>0</td>\n      <td>0</td>\n      <td>0.00</td>\n      <td>0.0</td>\n      <td>6.0</td>\n      <td>5.0</td>\n      <td>5.0</td>\n      <td>168.0</td>\n    </tr>\n    <tr>\n      <th>3</th>\n      <td>2</td>\n      <td>55.0</td>\n      <td>0610b486422d4921ae7d2bf64640c50b</td>\n      <td>112000.0</td>\n      <td>1363</td>\n      <td>504</td>\n      <td>0</td>\n      <td>1</td>\n      <td>0</td>\n      <td>0</td>\n      <td>0.00</td>\n      <td>0.0</td>\n      <td>10.0</td>\n      <td>0.0</td>\n      <td>0.0</td>\n      <td>96.0</td>\n    </tr>\n    <tr>\n      <th>4</th>\n      <td>2</td>\n      <td>55.0</td>\n      <td>0610b486422d4921ae7d2bf64640c50b</td>\n      <td>112000.0</td>\n      <td>1363</td>\n      <td>528</td>\n      <td>0</td>\n      <td>0</td>\n      <td>0</td>\n      <td>1</td>\n      <td>23.22</td>\n      <td>0.0</td>\n      <td>0.0</td>\n      <td>0.0</td>\n      <td>0.0</td>\n      <td>0.0</td>\n    </tr>\n  </tbody>\n</table>\n</div>"
     },
     "metadata": {},
     "execution_count": 33
    }
   ],
   "source": [
    "# drop channels - offer_id already determines the type of offer\n",
    "df.drop(['meta_email', 'meta_mobile', 'meta_social', 'meta_web', 'meta_bogo', 'meta_discount', 'meta_informational'], axis=1, inplace=True)\n",
    "df.head()"
   ]
  },
  {
   "cell_type": "code",
   "execution_count": 34,
   "metadata": {},
   "outputs": [
    {
     "output_type": "stream",
     "name": "stdout",
     "text": [
      "<class 'pandas.core.frame.DataFrame'>\nInt64Index: 272762 entries, 0 to 272761\nData columns (total 16 columns):\n #   Column                   Non-Null Count   Dtype  \n---  ------                   --------------   -----  \n 0   profile_gender           272762 non-null  int64  \n 1   profile_age              272762 non-null  float64\n 2   member_id                272762 non-null  object \n 3   profile_income           272762 non-null  float64\n 4   profile_membership_days  272762 non-null  int64  \n 5   transcript_time          272762 non-null  int64  \n 6   offer_completed          272762 non-null  uint8  \n 7   offer_received           272762 non-null  uint8  \n 8   offer_viewed             272762 non-null  uint8  \n 9   offer_transaction        272762 non-null  uint8  \n 10  transcript_amount        272762 non-null  float64\n 11  transcript_reward        272762 non-null  float64\n 12  offer_id                 272762 non-null  float64\n 13  meta_reward              272762 non-null  float64\n 14  meta_required_spending   272762 non-null  float64\n 15  meta_max_hours           272762 non-null  float64\ndtypes: float64(8), int64(3), object(1), uint8(4)\nmemory usage: 28.1+ MB\n"
     ]
    }
   ],
   "source": [
    "df.info()"
   ]
  },
  {
   "cell_type": "code",
   "execution_count": 35,
   "metadata": {},
   "outputs": [],
   "source": [
    "# save cleaned and merged data\n",
    "df.to_csv(r'C:\\Users\\BernadettKepenyes\\Documents\\GitHub\\starbucks-offer-success\\clean_df.csv', index=False)"
   ]
  }
 ],
 "metadata": {
  "kernelspec": {
   "name": "python381jvsc74a57bd0d6769f63486c9058f5e02c7220ce410da7feb2b73f9089aecd1314889f470a2b",
   "display_name": "Python 3.8.1 64-bit"
  },
  "language_info": {
   "codemirror_mode": {
    "name": "ipython",
    "version": 3
   },
   "file_extension": ".py",
   "mimetype": "text/x-python",
   "name": "python",
   "nbconvert_exporter": "python",
   "pygments_lexer": "ipython3",
   "version": "3.8.1-final"
  }
 },
 "nbformat": 4,
 "nbformat_minor": 2
}